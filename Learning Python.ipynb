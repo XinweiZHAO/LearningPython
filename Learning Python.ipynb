{
 "cells": [
  {
   "cell_type": "markdown",
   "metadata": {
    "slideshow": {
     "slide_type": "-"
    }
   },
   "source": [
    "# Learning Python学习笔记"
   ]
  },
  {
   "cell_type": "markdown",
   "metadata": {},
   "source": [
    "## Part1. Introduction for Python\n",
    "**Python优势：**\n",
    "* 注重可读性、一致性和软件质量\n",
    "* 开发效率高于C、C++、Java等编译/静态类型语言\n",
    "* 可移植性\n",
    "* 标准库（Standard library）\n",
    "* 组件集成（调用C、C++、Java程序，COM及.NET框架通信）\n",
    "\n",
    "**Python缺点：**\n",
    "* 执行速度\n",
    "\n",
    "**面向对象的脚本语言**\n",
    "“脚本”更倾向于描述简单的顶层代码文件，而“程序”则描述那些相对复杂的多文件应用。\n",
    "\n",
    "Python既支持面向对象编程也支持面向过程编程的模式"
   ]
  },
  {
   "cell_type": "markdown",
   "metadata": {},
   "source": [
    "## Part2. Python对象类型\n",
    "在Python中，数据以对象(数据结构)的形式出现。对于OOP，程序更注重“数据”，以及基于这样的“数据”我们所能做的事。\n",
    "1. 程序由模块构成\n",
    "2. 模块包含语句\n",
    "3. 语句包含表达式\n",
    "4. 表达式建立并处理对象"
   ]
  },
  {
   "cell_type": "markdown",
   "metadata": {},
   "source": [
    "** Python核心数据类型**\n",
    "\n",
    "**TABLE. 内置对象**\n",
    "\n",
    "| 对象类型 | Example 常量（literal）/创建 |\n",
    "| :----------------: | ------------------ |\n",
    "|**数字** | 1234，3.1415，3+4j，Decimal，Fraction|\n",
    "|**字符串** | 'spam'，\"guido's\"，b'a\\xolc'|\n",
    "|**列表**|[1, [2,'three'], 4]|\n",
    "|**字典**|{ 'food':'spam',  'taste':'yum'}|\n",
    "|**元组**|(1, ‘spam’, 4, 'U')|\n",
    "|**集合**| set( 'abc' ),  { 'a', 'b', 'c'}|\n",
    "|**文件**| myfile=open('eggs',r) |\n",
    "|**其他类型**|类型、None、布尔型|\n",
    "| **编程单元类型** | 函数、模块、类 |\n",
    "|**与实现相关的类型**| 编译的代码堆栈跟踪|"
   ]
  },
  {
   "cell_type": "markdown",
   "metadata": {
    "slideshow": {
     "slide_type": "-"
    }
   },
   "source": [
    "### Python数字类型\n",
    "* **整数和浮点数**\n",
    "* **复数**\n",
    "* **固定精度的十进制数**\n",
    "* **有理分数**\n",
    "* **集合**\n",
    "* **布尔类型**\n",
    "* **无穷的整数精度**\n",
    "* **各种数字内置函数和模块**\n"
   ]
  },
  {
   "cell_type": "markdown",
   "metadata": {
    "collapsed": true
   },
   "source": [
    "#### 数字常量\n",
    "**TABLE. 数字常量表**\n",
    "\n",
    "| 数字 |  常量（literal）  |\n",
    "| ---------------- | ------------------ |\n",
    "|1234, -24, 0, 999999999|整数（无穷大小） |\n",
    "| 1.23, 1., 3.14e-10, 4e210, 4.0e+210 |浮点数|\n",
    "| 0177, 0x9ff, 0b1001| Python2.6 八、十六、二进制数|\n",
    "| 0o177, 0x9ff, 0b1001|Python3.0 八、十六、二进制数|\n",
    "|3+4j, 3.0+4.0j, 3j| 复数常量|\n",
    "\n",
    "* Python中的浮点数类似于C语言中的“双精度”，对于整型，原Python2.6中分一般整数（32位）和长整型（无穷精度），并且在一般整型后加l/L可以转化为长整型。Python3.0已将二者整合，自动长整型。"
   ]
  },
  {
   "cell_type": "markdown",
   "metadata": {},
   "source": [
    "* **公用模块：**  math"
   ]
  },
  {
   "cell_type": "code",
   "execution_count": 1,
   "metadata": {
    "collapsed": false
   },
   "outputs": [
    {
     "data": {
      "text/plain": [
       "(3.141592653589793, 2.718281828459045)"
      ]
     },
     "execution_count": 1,
     "metadata": {},
     "output_type": "execute_result"
    }
   ],
   "source": [
    "import math\n",
    "math.pi,math.e"
   ]
  },
  {
   "cell_type": "code",
   "execution_count": 2,
   "metadata": {
    "collapsed": false,
    "scrolled": true
   },
   "outputs": [
    {
     "data": {
      "text/plain": [
       "(0.03489949670250097, 1.4142135623730951)"
      ]
     },
     "execution_count": 2,
     "metadata": {},
     "output_type": "execute_result"
    }
   ],
   "source": [
    "math.sin(2*math.pi/180),math.sqrt(2),"
   ]
  },
  {
   "cell_type": "code",
   "execution_count": 3,
   "metadata": {
    "collapsed": false
   },
   "outputs": [
    {
     "data": {
      "text/plain": [
       "(2, -3, 2, -2)"
      ]
     },
     "execution_count": 3,
     "metadata": {},
     "output_type": "execute_result"
    }
   ],
   "source": [
    "math.floor(2.6),math.floor(-2.6),math.trunc(2.6),math.trunc(-2.6) # trunc (drop decimal digits)"
   ]
  },
  {
   "cell_type": "code",
   "execution_count": 4,
   "metadata": {
    "collapsed": false,
    "scrolled": true
   },
   "outputs": [
    {
     "data": {
      "text/plain": [
       "(10, 1, 4, 16, 42, (2, 3, 2.57))"
      ]
     },
     "execution_count": 4,
     "metadata": {},
     "output_type": "execute_result"
    }
   ],
   "source": [
    "sum((1,2,3,4)),min((1,2,3,4)),max((1,2,3,4)), pow(2,4), abs(-42),( round(2.4),round(2.6),round(2.567,2) )  # bulid in function"
   ]
  },
  {
   "cell_type": "markdown",
   "metadata": {},
   "source": [
    "* **公用模块：**  random  "
   ]
  },
  {
   "cell_type": "code",
   "execution_count": 5,
   "metadata": {
    "collapsed": false
   },
   "outputs": [
    {
     "data": {
      "text/plain": [
       "(0.29403211655495376, 3, 3)"
      ]
     },
     "execution_count": 5,
     "metadata": {},
     "output_type": "execute_result"
    }
   ],
   "source": [
    "import random\n",
    "random.random(),random.randint(1,20),random.choice(['a',3,'b'])"
   ]
  },
  {
   "cell_type": "markdown",
   "metadata": {},
   "source": [
    "* **十六进制、八进制、二进制：**\n",
    "内置函数：hex()、oct()、bin()、int(str,base)"
   ]
  },
  {
   "cell_type": "code",
   "execution_count": 6,
   "metadata": {
    "collapsed": false
   },
   "outputs": [
    {
     "data": {
      "text/plain": [
       "('0o100', '0x40', '0b1000000', 10)"
      ]
     },
     "execution_count": 6,
     "metadata": {},
     "output_type": "execute_result"
    }
   ],
   "source": [
    "oct(64), hex(64), bin(64), int('1010',2)"
   ]
  },
  {
   "cell_type": "markdown",
   "metadata": {},
   "source": [
    "* **复数：**\n",
    "内置函数complex(real, imag)"
   ]
  },
  {
   "cell_type": "code",
   "execution_count": 7,
   "metadata": {
    "collapsed": false
   },
   "outputs": [
    {
     "data": {
      "text/plain": [
       "((3+4j), (5+6j))"
      ]
     },
     "execution_count": 7,
     "metadata": {},
     "output_type": "execute_result"
    }
   ],
   "source": [
    "complex(3,4), 5.0 + 6.0j"
   ]
  },
  {
   "cell_type": "markdown",
   "metadata": {},
   "source": [
    "#### **小数数字**\n",
    "\n",
    "具有固定的位数和小数点，故小数数字是**具有固定精度的浮点数**"
   ]
  },
  {
   "cell_type": "code",
   "execution_count": 8,
   "metadata": {
    "collapsed": false
   },
   "outputs": [
    {
     "data": {
      "text/plain": [
       "(Decimal('0.0'), 5.551115123125783e-17)"
      ]
     },
     "execution_count": 8,
     "metadata": {},
     "output_type": "execute_result"
    }
   ],
   "source": [
    "from decimal import Decimal \n",
    "Decimal('0.1') + Decimal('0.2') - Decimal('0.3'), 0.1 + 0.2 - 0.3  # 精度区别"
   ]
  },
  {
   "cell_type": "code",
   "execution_count": 9,
   "metadata": {
    "collapsed": false
   },
   "outputs": [
    {
     "data": {
      "text/plain": [
       "(Decimal('0.142857'), Decimal('2000.33'))"
      ]
     },
     "execution_count": 9,
     "metadata": {},
     "output_type": "execute_result"
    }
   ],
   "source": [
    "import decimal  # 导入decimal module \n",
    "decimal.getcontext().prec = 6 # 设置全局精度\n",
    "Decimal(1)/Decimal(7), Decimal(str( 1999 + 1.33))"
   ]
  },
  {
   "cell_type": "code",
   "execution_count": 10,
   "metadata": {
    "collapsed": false
   },
   "outputs": [
    {
     "name": "stdout",
     "output_type": "stream",
     "text": [
      "0.143\n"
     ]
    }
   ],
   "source": [
    "with decimal.localcontext() as ctx: # 临时精度\n",
    "    ctx.prec=3\n",
    "    print(Decimal(1)/Decimal(7))"
   ]
  },
  {
   "cell_type": "markdown",
   "metadata": {},
   "source": [
    "#### **分数类型：**\n",
    "保留分子分母，避免浮点数的不精确性和局限性"
   ]
  },
  {
   "cell_type": "code",
   "execution_count": 11,
   "metadata": {
    "collapsed": false
   },
   "outputs": [
    {
     "name": "stdout",
     "output_type": "stream",
     "text": [
      "1/3 \t 2/3\n",
      "1 \t 1/3\n",
      "＿＿＿＿＿＿＿＿\n"
     ]
    },
    {
     "data": {
      "text/plain": [
       "Fraction(1, 4)"
      ]
     },
     "execution_count": 11,
     "metadata": {},
     "output_type": "execute_result"
    }
   ],
   "source": [
    "from fractions import Fraction\n",
    "x = Fraction(1,3)  # Numerator, denominator \n",
    "y = Fraction(4,6)  # Simplified\n",
    "print(x,'\\t',y)\n",
    "print(x+y,'\\t',y-x) # + - 运算符（重载）\n",
    "print(8 * '＿')\n",
    "Fraction('0.25') #从浮点数创建"
   ]
  },
  {
   "cell_type": "markdown",
   "metadata": {},
   "source": [
    "* **转换与混合类型**"
   ]
  },
  {
   "cell_type": "code",
   "execution_count": 12,
   "metadata": {
    "collapsed": false
   },
   "outputs": [
    {
     "data": {
      "text/plain": [
       "(5, 2)"
      ]
     },
     "execution_count": 12,
     "metadata": {},
     "output_type": "execute_result"
    }
   ],
   "source": [
    "(2.5).as_integer_ratio() # float拆为分子分母"
   ]
  },
  {
   "cell_type": "code",
   "execution_count": 13,
   "metadata": {
    "collapsed": false,
    "scrolled": true
   },
   "outputs": [
    {
     "name": "stdout",
     "output_type": "stream",
     "text": [
      "2386907802506363/1125899906842624 2.12\n"
     ]
    }
   ],
   "source": [
    "x = Fraction(*(2.12).as_integer_ratio()) # 将float转化为fraction\n",
    "y = float(x)                             # 将fraction转化回float\n",
    "print(x,y)"
   ]
  },
  {
   "cell_type": "markdown",
   "metadata": {},
   "source": [
    "#### **布尔类型**"
   ]
  },
  {
   "cell_type": "code",
   "execution_count": 14,
   "metadata": {
    "collapsed": false,
    "scrolled": true
   },
   "outputs": [
    {
     "data": {
      "text/plain": [
       "(bool, bool)"
      ]
     },
     "execution_count": 14,
     "metadata": {},
     "output_type": "execute_result"
    }
   ],
   "source": [
    "type(True), type(False)"
   ]
  },
  {
   "cell_type": "code",
   "execution_count": 15,
   "metadata": {
    "collapsed": false
   },
   "outputs": [
    {
     "data": {
      "text/plain": [
       "(True, True)"
      ]
     },
     "execution_count": 15,
     "metadata": {},
     "output_type": "execute_result"
    }
   ],
   "source": [
    "True == 1 , False == 0"
   ]
  },
  {
   "cell_type": "markdown",
   "metadata": {},
   "source": [
    "**TABLE. 对象真值的例子**\n",
    "\n",
    "| 对象 |  值  |\n",
    "| :----------------: | ------------------ |\n",
    "| \"spam \"| True |\n",
    "| \"  \" | False |\n",
    "| [] | False |\n",
    "| {} | False |\n",
    "| 1 | True |\n",
    "| 0.0 | False |\n",
    "| None | False |"
   ]
  },
  {
   "cell_type": "markdown",
   "metadata": {},
   "source": [
    "#### **Type对象**"
   ]
  },
  {
   "cell_type": "markdown",
   "metadata": {},
   "source": [
    "### 集合（set）\n",
    "\n",
    "- 唯一（只出现一次）、不可变对象的无序集合\n",
    "- 集合是可以迭代的"
   ]
  },
  {
   "cell_type": "code",
   "execution_count": 16,
   "metadata": {
    "collapsed": false
   },
   "outputs": [
    {
     "name": "stdout",
     "output_type": "stream",
     "text": [
      "{'a', 'b', 'd', 'e', 'c'} {1, 2, 3, 4, 5}\n"
     ]
    }
   ],
   "source": [
    "set_x = set('abcde')  # set内置函数创建集合\n",
    "set_y = set([1,2,3,4,5])\n",
    "print(set_x,set_y)"
   ]
  },
  {
   "cell_type": "code",
   "execution_count": 17,
   "metadata": {
    "collapsed": false
   },
   "outputs": [
    {
     "data": {
      "text/plain": [
       "True"
      ]
     },
     "execution_count": 17,
     "metadata": {},
     "output_type": "execute_result"
    }
   ],
   "source": [
    "'a' in set_x   # 集合成员检测"
   ]
  },
  {
   "cell_type": "code",
   "execution_count": 18,
   "metadata": {
    "collapsed": false
   },
   "outputs": [
    {
     "data": {
      "text/plain": [
       "({'a', 'b', 'c', 'd', 'e'},\n",
       " {1, 2, 3, 4, 5, 'c', 'b', 'd', 'a', 'e'},\n",
       " set(),\n",
       " {1, 2, 3, 4, 5, 'c', 'b', 'd', 'a', 'e'},\n",
       " False,\n",
       " False)"
      ]
     },
     "execution_count": 18,
     "metadata": {},
     "output_type": "execute_result"
    }
   ],
   "source": [
    "set_x - set_y, set_x | set_y, set_x & set_y, set_x ^ set_y, set_x > set_y, set_x < set_y # 差/并/交/XOR/超集子集判断 ( set_x + set_y <--wrong )"
   ]
  },
  {
   "cell_type": "code",
   "execution_count": 19,
   "metadata": {
    "collapsed": false,
    "scrolled": true
   },
   "outputs": [
    {
     "data": {
      "text/plain": [
       "set()"
      ]
     },
     "execution_count": 19,
     "metadata": {},
     "output_type": "execute_result"
    }
   ],
   "source": [
    "set_x.intersection(set_y) # 内置交集函数"
   ]
  },
  {
   "cell_type": "code",
   "execution_count": 20,
   "metadata": {
    "collapsed": false
   },
   "outputs": [
    {
     "name": "stdout",
     "output_type": "stream",
     "text": [
      "{'c', 'b', 'd', 'a', 'SPAM', 'e'}\n"
     ]
    }
   ],
   "source": [
    "set_x.add('SPAM')  # add添加元素（不可变对象、如元组、数字、字符串）\n",
    "print(set_x)"
   ]
  },
  {
   "cell_type": "code",
   "execution_count": 21,
   "metadata": {
    "collapsed": false,
    "scrolled": true
   },
   "outputs": [
    {
     "name": "stdout",
     "output_type": "stream",
     "text": [
      "{'m', 'n', 'c', 'b', 'd', 'a', 'SPAM', 'e'}\n"
     ]
    }
   ],
   "source": [
    "set_x.update(set(['m','n']))  # update 更新set元素\n",
    "print(set_x)"
   ]
  },
  {
   "cell_type": "code",
   "execution_count": 22,
   "metadata": {
    "collapsed": false
   },
   "outputs": [
    {
     "data": {
      "text/plain": [
       "({1, 2, 3, 4, 5, 6}, {2, 3}, False)"
      ]
     },
     "execution_count": 22,
     "metadata": {},
     "output_type": "execute_result"
    }
   ],
   "source": [
    "{1,2,3}.union([4,5,6]), {1,2,3}.intersection([2,3,4]), {1,2,3}.issubset([2,3,4]) # Python3.0支持{}形式"
   ]
  },
  {
   "cell_type": "markdown",
   "metadata": {},
   "source": [
    "- set为可迭代容器，可用于len、for循环、列表解析操作\n",
    "- set无序，故无法分片（Slice）及索引操作"
   ]
  },
  {
   "cell_type": "code",
   "execution_count": 23,
   "metadata": {
    "collapsed": false
   },
   "outputs": [
    {
     "name": "stdout",
     "output_type": "stream",
     "text": [
      "aaaaaa\n",
      "bbbbbb\n",
      "dddddd\n"
     ]
    }
   ],
   "source": [
    "for item in set('abd'): print(6*item)"
   ]
  },
  {
   "cell_type": "markdown",
   "metadata": {},
   "source": [
    "- **不可变限制和冻结集合**\n",
    "  - 列表、字典不可嵌入，但元组可以 tuple.add((1,2,3))\n",
    "  - Python3.0引入**集合解析构造**"
   ]
  },
  {
   "cell_type": "code",
   "execution_count": 24,
   "metadata": {
    "collapsed": false,
    "scrolled": true
   },
   "outputs": [
    {
     "data": {
      "text/plain": [
       "({1, 4, 8, 9, 16, 27, 64}, {'AA', 'MM', 'PP', 'SS'})"
      ]
     },
     "execution_count": 24,
     "metadata": {},
     "output_type": "execute_result"
    }
   ],
   "source": [
    "{x ** y for x in range(1,5) for y in [2,3]}, {x * 2 for x in \"SPAM\"} # 集合解析构造, 重复元素自动删除"
   ]
  },
  {
   "cell_type": "markdown",
   "metadata": {},
   "source": [
    "### ** Python表达式操作符　**\n",
    "**TABLE. 常见表达式操作符列表**\n",
    "\n",
    "| 操作符 |  描述  |\n",
    "| ---------------- | ------------------ |\n",
    "| yield x | 生成器函数发送协议|\n",
    "| lambda args: expression |匿名函数|\n",
    "| x if y else z| 三元选择表达式|\n",
    "| x or y| 逻辑或（只有x为假，y才会被计算）|\n",
    "| x and y | 逻辑与（只有x为真，y才会被计算）|\n",
    "| not x| 逻辑非|\n",
    "| x in y, x not in y| 成员关系（可迭代对象、集合）|\n",
    "| x is y, x is not y | 对象实体测试|\n",
    "| x < y, x <= y, x > y, x >= y, x == y, x != y | 大小比较、集合子集和超集值相等性操作符|\n",
    "| x l y | 按位或、集合并集|\n",
    "| x^y | 按位异或，集合对称差|\n",
    "| x&y | 按位与，集合交集|\n",
    "| x << y, x >> y | 左移或右移y位|\n",
    "| x + y, x - y| 加法/合并，减法/差集|\n",
    "| x * y , x / y , x // y, x % y | 乘法/字符串重复，除法，真除法/floor除法，余数|\n",
    "| -x , +x | 一元减法，识别|\n",
    "| ~x | 按位求补（取反）|\n",
    "| x ** y | x幂运算|\n",
    "| x[i]| 索引（序列、映射、其他）|\n",
    "| x[i][j][k]| 分片| \n",
    "| x(...) |调用（函数、方法、类、及其他可调用的）|\n",
    "| x.attr | 属性引用 |\n",
    "| (...) |元组，表达式，生成器表达式|\n",
    "| [...] |列表、列表解析|\n",
    "| {...} |字典、集合、字典和集合解析|"
   ]
  },
  {
   "cell_type": "markdown",
   "metadata": {},
   "source": [
    "* **操作符优先级**（上表越靠后优先级越高）\n",
    "* **混合类型自动升级**，整数 < 浮点数 < 复数"
   ]
  },
  {
   "cell_type": "markdown",
   "metadata": {
    "collapsed": true
   },
   "source": [
    "### 动态类型"
   ]
  },
  {
   "cell_type": "markdown",
   "metadata": {},
   "source": [
    "* **类型声明**\n",
    "  - 在静态编译类型语言C、C++、Java中，变量需要先定义再使用，而动态类型语言在运行时自动确定。\n",
    "* **变量、对象和引用**\n",
    "  - 对象是分配了的内存空间\n",
    "  - 变量事实上是指向对象内存空间的一个指针\n",
    "  - “引用”是自动形成的从变量指向对象的指针\n",
    "  \n",
    "    Example： a = 3  （ 3是对象，a是变量，指向3存储的内存）"
   ]
  },
  {
   "cell_type": "markdown",
   "metadata": {},
   "source": [
    "* **类型属于对象而不是变量**\n",
    "  - 每一个**对象**都有两个标准的头部信息：**1. 类型标识符**  标示类型 **2. 引用计数器** 判断是否回收内存（**内存自动管理，不需要考虑释放内存**）"
   ]
  },
  {
   "cell_type": "code",
   "execution_count": 25,
   "metadata": {
    "collapsed": true
   },
   "outputs": [],
   "source": [
    "a = 3      # 整数\n",
    "a = 'abs'  # 字符串\n",
    "a = 1.24   # 浮点数"
   ]
  },
  {
   "cell_type": "markdown",
   "metadata": {},
   "source": [
    "* **共享引用和原处修改**\n",
    "  - 共享引用：指向同一内存空间\n",
    "  - 有一些对象和操作会在原处改变对象（即**可变对象** 列表 L[0]=1、字典、以及class）"
   ]
  },
  {
   "cell_type": "markdown",
   "metadata": {},
   "source": [
    "* **共享引用和相等**"
   ]
  },
  {
   "cell_type": "code",
   "execution_count": 26,
   "metadata": {
    "collapsed": false
   },
   "outputs": [
    {
     "name": "stdout",
     "output_type": "stream",
     "text": [
      "True\n",
      "True\n"
     ]
    }
   ],
   "source": [
    "L = [1,2,3]\n",
    "M = L\n",
    "print( L == M )  # Same value\n",
    "print( L is M )  # same object"
   ]
  },
  {
   "cell_type": "markdown",
   "metadata": {},
   "source": [
    "### 字符串"
   ]
  },
  {
   "cell_type": "markdown",
   "metadata": {},
   "source": [
    "- Python没有单个字符，只有表示单个字符的字符串\n",
    "- 字符串属于**不可变 序列（对象类别）**（自左向右按顺序且不可在原处修改）"
   ]
  },
  {
   "cell_type": "markdown",
   "metadata": {},
   "source": [
    "**TABLE. 常见字符串常量和表达式**\n",
    "\n",
    "| 操作 |  解释   |\n",
    "| :---------------- | :------------------ |\n",
    "| s = ''| 空字符串|\n",
    "| s = \" SPAM ' s \" | 双引号与单引号相同|\n",
    "| s = 's\\np\\ta\\spam'| 转义序列|\n",
    "| s = '''...''' | 三重引号字符串块|\n",
    "| s = r'\\temp\\spam'  | RAW字符串|\n",
    "| s = b'spam' | Python3.0字节字符串|\n",
    "| s = u'spam' | 仅在Python2.6,Unicode字符串|\n",
    "| s1 + s2 , s * 3| 合并，重复 |\n",
    "| s[i] ,s[i:j], len(s) | 索引、分片、求长度 |\n",
    "| \"a %s parrot\" % kind | 字符串格式化表达式 |\n",
    "| \"a {0} parrot\".format(kind)| Python2.6和3.0中字符串格式化方法|\n",
    "| s.find('pa') | 字符串搜索 | \n",
    "| s.rstrip() | 移除空格 |\n",
    "| s.replace('pa','xx')| 替换 |\n",
    "| s.split(',') | 用展位符分隔|\n",
    "| s.isdigit() | 内容测试 |\n",
    "| s.lower() | 短信息转换 |\n",
    "| s.endswith('spam') | 结束测试 |\n",
    "| 'spam'.join(strlist)| 插入分隔符|\n",
    "| s.encode('latin-1')|Unicode编码等|\n",
    "| for x in s : print(x1)| 迭代，成员关系|\n",
    "| 'spam' in s | |\n",
    "| c * 2 for c in s | |\n",
    "| map(ord , s ) | |"
   ]
  },
  {
   "cell_type": "markdown",
   "metadata": {},
   "source": [
    "- **字符串常量**"
   ]
  },
  {
   "cell_type": "code",
   "execution_count": 27,
   "metadata": {
    "collapsed": false
   },
   "outputs": [
    {
     "data": {
      "text/plain": [
       "(\"spa''m\", \"spa'm'\", '  if this \\nas \\nsd\\n123 ')"
      ]
     },
     "execution_count": 27,
     "metadata": {},
     "output_type": "execute_result"
    }
   ],
   "source": [
    "'spa\\'\\'m',  \"spa'm'\",   '''  if this \n",
    "as \n",
    "sd\n",
    "123 '''  # 单引号、双引号、三引号、转义字符"
   ]
  },
  {
   "cell_type": "code",
   "execution_count": 28,
   "metadata": {
    "collapsed": false
   },
   "outputs": [
    {
     "data": {
      "text/plain": [
       "'C:\\\\new\\\\test.spam'"
      ]
     },
     "execution_count": 28,
     "metadata": {},
     "output_type": "execute_result"
    }
   ],
   "source": [
    "r\"C:\\new\\test.spam\" # RAW字符串，抑制转义字符"
   ]
  },
  {
   "cell_type": "code",
   "execution_count": 29,
   "metadata": {
    "collapsed": false
   },
   "outputs": [
    {
     "data": {
      "text/plain": [
       "b'sp\\x01am'"
      ]
     },
     "execution_count": 29,
     "metadata": {},
     "output_type": "execute_result"
    }
   ],
   "source": [
    "b'sp\\x01am' # Python3.0 Byte字符串"
   ]
  },
  {
   "cell_type": "markdown",
   "metadata": {},
   "source": [
    "** 字符串实际应用 **\n",
    "- **基本操作**"
   ]
  },
  {
   "cell_type": "code",
   "execution_count": 30,
   "metadata": {
    "collapsed": false
   },
   "outputs": [
    {
     "data": {
      "text/plain": [
       "(3, 'abcer', 'Ni!Ni!Ni!Ni!')"
      ]
     },
     "execution_count": 30,
     "metadata": {},
     "output_type": "execute_result"
    }
   ],
   "source": [
    "len('abs'), 'abc'+'er', 'Ni!'* 4 # Length、Concatenation、Repetition"
   ]
  },
  {
   "cell_type": "code",
   "execution_count": 31,
   "metadata": {
    "collapsed": false,
    "scrolled": true
   },
   "outputs": [
    {
     "name": "stdout",
     "output_type": "stream",
     "text": [
      "H\te\tl\tl\to\tw\t"
     ]
    }
   ],
   "source": [
    "for c in \"Hellow\": print(c ,end='\\t') # 迭代"
   ]
  },
  {
   "cell_type": "code",
   "execution_count": 32,
   "metadata": {
    "collapsed": false
   },
   "outputs": [
    {
     "data": {
      "text/plain": [
       "True"
      ]
     },
     "execution_count": 32,
     "metadata": {},
     "output_type": "execute_result"
    }
   ],
   "source": [
    "'z' in \"zip\" # 成员检测"
   ]
  },
  {
   "cell_type": "markdown",
   "metadata": {},
   "source": [
    "- 索引和分片"
   ]
  },
  {
   "cell_type": "code",
   "execution_count": 33,
   "metadata": {
    "collapsed": false
   },
   "outputs": [
    {
     "data": {
      "text/plain": [
       "('H',\n",
       " 'A',\n",
       " 'HELLOW XINWEIZHAO',\n",
       " 'HE',\n",
       " 'ZHAO',\n",
       " 'XNEZA',\n",
       " 'XWLE',\n",
       " 'OAHZIEWNIX WOLLEH')"
      ]
     },
     "execution_count": 33,
     "metadata": {},
     "output_type": "execute_result"
    }
   ],
   "source": [
    "String_S = \"HELLOW XINWEIZHAO\"\n",
    "String_S[0], String_S[-2], String_S[:], String_S[0:2], String_S[-4:], String_S[7: :2], String_S[7:0:-2], String_S[::-1]  # 索引、分片"
   ]
  },
  {
   "cell_type": "markdown",
   "metadata": {},
   "source": [
    "- **字符串转换工具**"
   ]
  },
  {
   "cell_type": "code",
   "execution_count": 34,
   "metadata": {
    "collapsed": false
   },
   "outputs": [
    {
     "data": {
      "text/plain": [
       "(45, '42ad')"
      ]
     },
     "execution_count": 34,
     "metadata": {},
     "output_type": "execute_result"
    }
   ],
   "source": [
    "int('42') + 3, str(\"42\") + \"ad\" # 类型转换 int string"
   ]
  },
  {
   "cell_type": "markdown",
   "metadata": {},
   "source": [
    "- **字符串代码转换**"
   ]
  },
  {
   "cell_type": "code",
   "execution_count": 35,
   "metadata": {
    "collapsed": false
   },
   "outputs": [
    {
     "data": {
      "text/plain": [
       "(115, 's', 't')"
      ]
     },
     "execution_count": 35,
     "metadata": {},
     "output_type": "execute_result"
    }
   ],
   "source": [
    "ord('s'), chr(115), chr( ord('s') + 1 ) # ord<->chr相反操作  ASCII码"
   ]
  },
  {
   "cell_type": "markdown",
   "metadata": {},
   "source": [
    "- **修改字符串**\n",
    "\n",
    "字符串为**不可变 序列**，不能在原地修改"
   ]
  },
  {
   "cell_type": "code",
   "execution_count": 36,
   "metadata": {
    "collapsed": false
   },
   "outputs": [
    {
     "name": "stdout",
     "output_type": "stream",
     "text": [
      "XINWEIZHAO\n"
     ]
    }
   ],
   "source": [
    "String_S = String_S[ 7 : ] # make a new one  wrong -> s[0]='a'\n",
    "print(String_S)"
   ]
  },
  {
   "cell_type": "code",
   "execution_count": 37,
   "metadata": {
    "collapsed": false,
    "scrolled": true
   },
   "outputs": [
    {
     "name": "stdout",
     "output_type": "stream",
     "text": [
      "BADZHAO\n"
     ]
    }
   ],
   "source": [
    "String_S = String_S.replace('XINWEI','BAD') #　通过内置函数replace\n",
    "print(String_S)"
   ]
  },
  {
   "cell_type": "code",
   "execution_count": 38,
   "metadata": {
    "collapsed": false
   },
   "outputs": [
    {
     "name": "stdout",
     "output_type": "stream",
     "text": [
      "['B', 'A', 'D', 'Z', 'H', 'A', 'O']\n",
      "['G', 'o', 'o', 'd', 'Z', 'H', 'A', 'O']\n"
     ]
    }
   ],
   "source": [
    "String_S = list(String_S) # 转换为列表,\n",
    "print(String_S)\n",
    "String_S[0:3]='Good'     # 可原处修改后再转为字符串\n",
    "print(String_S)"
   ]
  },
  {
   "cell_type": "markdown",
   "metadata": {},
   "source": [
    "- **字符串方法调用**\n",
    "\n",
    "**格式：**object.attribute"
   ]
  },
  {
   "cell_type": "markdown",
   "metadata": {},
   "source": [
    "**TABLE. 字符串函数列表**\n",
    "\n",
    "|  String Function List|\n",
    "| :---------------- | :------------------ |\n",
    "|S.capitalize() | S.ljust(width [, fill])|\n",
    "|S.casefold()   | S.lower()|\n",
    "|S.center(width [ , fill]) |S.lstrip([chars])|\n",
    "|S.count(sub [ , start [ , end]])| S.maketrans(x[, y[, z]])|\n",
    "|S.encode([encoding [ ,errors]])| S.partition(sep)|\n",
    "|S.endswith(suffix [ , start [ , end]])| S.replace(old, new [, count])|\n",
    "|S.expandtabs([tabsize])| S.rfind(sub [ ,start [,end]])|\n",
    "|S.find(sub [ , start [ , end]]) |S.rindex(sub [ , start [ , end]])|\n",
    "|S.format(fmtstr, *args, **kwargs) | S.rjust(width [ , fill])|\n",
    "|S.index(sub [ , start [ , end]]) |S.rpartition(sep)|\n",
    "|S.isalnum() |S.rsplit([sep[ , maxsplit]])|\n",
    "|S.isalpha() |S.rstrip([chars])|\n",
    "|S.isdecimal() |S.split([sep [ ,maxsplit]])|\n",
    "|S.isdigit() |S.splitlines([keepends])|\n",
    "|S.isidentifier() | S.startswith(prefix [ , start [ , end]])|\n",
    "|S.islower() |S.strip([chars])|\n",
    "|S.isnumeric() | S.swapcase()|\n",
    "|S.isprintable() |S.title()|\n",
    "|S.isspace() |S.translate(map)|\n",
    "|S.istitle()| S.upper()|\n",
    "|S.isupper() |S.zfill(width)|\n",
    "|S.join(iterable)| |"
   ]
  },
  {
   "cell_type": "code",
   "execution_count": 39,
   "metadata": {
    "collapsed": false
   },
   "outputs": [
    {
     "name": "stdout",
     "output_type": "stream",
     "text": [
      "XHELLOW IHELLOW NHELLOW WHELLOW EHELLOW IHELLOW ZHELLOW HHELLOW AHELLOW O\n",
      "HELLOW \n"
     ]
    }
   ],
   "source": [
    "String_S = \"HELLOW \"\n",
    "String_S = String_S.join('XINWEIZHAO') # 方法调用返回None,乱码\n",
    "print(String_S)\n",
    "String_S = \"HELLOW \"\n",
    "String_S.join(['XINWEI','ZHAO'])\n",
    "print(String_S)"
   ]
  },
  {
   "cell_type": "markdown",
   "metadata": {
    "collapsed": true
   },
   "source": [
    "- 字符串用于：**文本解析**"
   ]
  },
  {
   "cell_type": "code",
   "execution_count": 40,
   "metadata": {
    "collapsed": false
   },
   "outputs": [
    {
     "data": {
      "text/plain": [
       "['aaa', 'bbb', 'ccc']"
      ]
     },
     "execution_count": 40,
     "metadata": {},
     "output_type": "execute_result"
    }
   ],
   "source": [
    "line = 'aaa,bbb,ccc'  # split 分割字符串\n",
    "cols = line.split(',')\n",
    "cols"
   ]
  },
  {
   "cell_type": "code",
   "execution_count": 41,
   "metadata": {
    "collapsed": false
   },
   "outputs": [
    {
     "data": {
      "text/plain": [
       "'The knights who say Ni!'"
      ]
     },
     "execution_count": 41,
     "metadata": {},
     "output_type": "execute_result"
    }
   ],
   "source": [
    "line = \"The knights who say Ni!\\n\"\n",
    "line.rstrip()  # 去除空格"
   ]
  },
  {
   "cell_type": "code",
   "execution_count": 42,
   "metadata": {
    "collapsed": false
   },
   "outputs": [
    {
     "data": {
      "text/plain": [
       "'THE KNIGHTS WHO SAY NI!\\n'"
      ]
     },
     "execution_count": 42,
     "metadata": {},
     "output_type": "execute_result"
    }
   ],
   "source": [
    "line.upper() # 转为大写"
   ]
  },
  {
   "cell_type": "code",
   "execution_count": 43,
   "metadata": {
    "collapsed": false
   },
   "outputs": [
    {
     "data": {
      "text/plain": [
       "False"
      ]
     },
     "execution_count": 43,
     "metadata": {},
     "output_type": "execute_result"
    }
   ],
   "source": [
    "line.isalpha() # 是否为数字"
   ]
  },
  {
   "cell_type": "code",
   "execution_count": 44,
   "metadata": {
    "collapsed": false
   },
   "outputs": [
    {
     "data": {
      "text/plain": [
       "True"
      ]
     },
     "execution_count": 44,
     "metadata": {},
     "output_type": "execute_result"
    }
   ],
   "source": [
    "line.endswith('Ni!\\n') # 检测起始字符串"
   ]
  },
  {
   "cell_type": "code",
   "execution_count": 45,
   "metadata": {
    "collapsed": false
   },
   "outputs": [
    {
     "data": {
      "text/plain": [
       "True"
      ]
     },
     "execution_count": 45,
     "metadata": {},
     "output_type": "execute_result"
    }
   ],
   "source": [
    "line.startswith(\"The\") # 检测末尾字符串"
   ]
  },
  {
   "cell_type": "code",
   "execution_count": 46,
   "metadata": {
    "collapsed": false
   },
   "outputs": [
    {
     "data": {
      "text/plain": [
       "(20, True)"
      ]
     },
     "execution_count": 46,
     "metadata": {},
     "output_type": "execute_result"
    }
   ],
   "source": [
    "line.find('Ni!'), 'Ni!' in  line   # find返回索引"
   ]
  },
  {
   "cell_type": "markdown",
   "metadata": {},
   "source": [
    "- **字符串格式化表达式**"
   ]
  },
  {
   "cell_type": "code",
   "execution_count": 47,
   "metadata": {
    "collapsed": false
   },
   "outputs": [
    {
     "data": {
      "text/plain": [
       "'SPAM -- 23 -- 1.234000 -- [1, 2, 3, 4] -- 123 '"
      ]
     },
     "execution_count": 47,
     "metadata": {},
     "output_type": "execute_result"
    }
   ],
   "source": [
    "\"%s -- %d -- %f -- %s -- %s \" % ( 'SPAM', 23, 1.234, [1,2,3,4], 123)"
   ]
  },
  {
   "cell_type": "markdown",
   "metadata": {},
   "source": [
    "**TABLE. 字符串格式化代码**\n",
    "\n",
    "| Code         |        Meaning     |\n",
    "| :---------------- :| :------------------ |\n",
    "|s |String (or any object’s str(X) string)|\n",
    "|r |Same as s, but uses repr, not str|\n",
    "|c |Character (int or str)|\n",
    "|d |Decimal (base-10 integer)|\n",
    "|i |Integer|\n",
    "|u | Same as d (obsolete: no longer unsigned)|\n",
    "|o |Octal integer (base 8)|\n",
    "|x| Hex integer (base 16)|\n",
    "|X| Same as x, but with uppercase letters|\n",
    "|e| Floating point with exponent, lowercase|\n",
    "|E| Same as e, but uses uppercase letters|\n",
    "|f| Floating-point decimal|\n",
    "|F| Same as f, but uses uppercase letters|\n",
    "|g| Floating-point e or f|\n",
    "|G| Floating-point E or F|\n",
    "|%| Literal % (coded as %%)|"
   ]
  },
  {
   "cell_type": "markdown",
   "metadata": {},
   "source": [
    "**格式： %[(name)][flag][width][.precision]typecode**\n",
    "- Provide a key name for indexing the dictionary used on the right side of the expression\n",
    "- List **flags** that specify things like **left justification (−), numeric sign (+), a blank **before\n",
    "positive numbers and a – for negatives (a space), and zero fills (0)\n",
    "- Give a total minimum field **width** for the substituted text\n",
    "- Set the number of digits (**precision**) to display after a decimal point for floatingpoint\n",
    "numbers\n",
    "Both the width and precision parts can also be coded as a ** * ** to specify that they should\n",
    "**take their values from the next item ** in the input values on the expression’s right side\n",
    "(useful when this isn’t known until runtime)."
   ]
  },
  {
   "cell_type": "code",
   "execution_count": 48,
   "metadata": {
    "collapsed": false
   },
   "outputs": [
    {
     "data": {
      "text/plain": [
       "' 1.23      |  000001.23 | +0000001.2 '"
      ]
     },
     "execution_count": 48,
     "metadata": {},
     "output_type": "execute_result"
    }
   ],
   "source": [
    "x = 1.23456789\n",
    "'% -10.2f | % 010.2f | % +010.1f ' % (x,x,x)"
   ]
  },
  {
   "cell_type": "code",
   "execution_count": 49,
   "metadata": {
    "collapsed": false
   },
   "outputs": [
    {
     "data": {
      "text/plain": [
       "'0.333333, 0.33,     0.3333'"
      ]
     },
     "execution_count": 49,
     "metadata": {},
     "output_type": "execute_result"
    }
   ],
   "source": [
    "'%f, %.2f, %*.*f' % (1/3.0, 1/3.0, 10,4, 1/3.0) #　＊：'*'去定width and precision"
   ]
  },
  {
   "cell_type": "markdown",
   "metadata": {
    "collapsed": true
   },
   "source": [
    "- ** 基于字典的字符串格式化**"
   ]
  },
  {
   "cell_type": "code",
   "execution_count": 50,
   "metadata": {
    "collapsed": false
   },
   "outputs": [
    {
     "data": {
      "text/plain": [
       "'1 more spam'"
      ]
     },
     "execution_count": 50,
     "metadata": {},
     "output_type": "execute_result"
    }
   ],
   "source": [
    "'%(qty)d more %(food)s' % {'qty': 1, 'food': 'spam'} "
   ]
  },
  {
   "cell_type": "markdown",
   "metadata": {},
   "source": [
    "** 调用 format方法** 创建并返回一个新的字符串对象"
   ]
  },
  {
   "cell_type": "code",
   "execution_count": 51,
   "metadata": {
    "collapsed": false
   },
   "outputs": [
    {
     "data": {
      "text/plain": [
       "'spam, ham and eggs'"
      ]
     },
     "execution_count": 51,
     "metadata": {},
     "output_type": "execute_result"
    }
   ],
   "source": [
    "'{0}, {1} and {2}'.format('spam', 'ham', 'eggs') # format方法，By position"
   ]
  },
  {
   "cell_type": "code",
   "execution_count": 52,
   "metadata": {
    "collapsed": false
   },
   "outputs": [
    {
     "data": {
      "text/plain": [
       "'spam, ham and eggs'"
      ]
     },
     "execution_count": 52,
     "metadata": {},
     "output_type": "execute_result"
    }
   ],
   "source": [
    "'{motto}, {pork} and {food}'.format(motto='spam', pork='ham', food='eggs') # format方法，By keyword"
   ]
  },
  {
   "cell_type": "code",
   "execution_count": 53,
   "metadata": {
    "collapsed": false
   },
   "outputs": [
    {
     "data": {
      "text/plain": [
       "'spam, ham and [1, 2, 3]'"
      ]
     },
     "execution_count": 53,
     "metadata": {},
     "output_type": "execute_result"
    }
   ],
   "source": [
    "'{motto}, {0} and {food}'.format('ham', motto='spam', food=[1 ,2 ,3]) # format方法，By both"
   ]
  },
  {
   "cell_type": "markdown",
   "metadata": {},
   "source": [
    "** The basic ：with % instead of format()**"
   ]
  },
  {
   "cell_type": "code",
   "execution_count": 54,
   "metadata": {
    "collapsed": false
   },
   "outputs": [
    {
     "data": {
      "text/plain": [
       "'My laptop runs win32'"
      ]
     },
     "execution_count": 54,
     "metadata": {},
     "output_type": "execute_result"
    }
   ],
   "source": [
    "import sys\n",
    "'My %(kind)s runs %(platform)s' % {'kind': 'laptop', 'platform': sys.platform} # using '%'  By keyword"
   ]
  },
  {
   "cell_type": "code",
   "execution_count": 55,
   "metadata": {
    "collapsed": false
   },
   "outputs": [
    {
     "data": {
      "text/plain": [
       "'My laptop runs win32'"
      ]
     },
     "execution_count": 55,
     "metadata": {},
     "output_type": "execute_result"
    }
   ],
   "source": [
    "'My %(kind)s runs %(platform)s' % dict(kind='laptop', platform=sys.platform)  # 构造dict"
   ]
  },
  {
   "cell_type": "markdown",
   "metadata": {},
   "source": [
    "###  Python数据类型分类"
   ]
  },
  {
   "cell_type": "markdown",
   "metadata": {},
   "source": [
    "**基本可分为以下：**\n",
    "- **数字 （整数、浮点数、二进制、分数等）**\n",
    "  - 支持加减乘除等\n",
    "- **序列 （字符串string、列表set、元组tuple）**\n",
    "  - 支持索引、分片、合并等\n",
    "- **映射 （字典dict）**\n",
    "  - 支持通过键的索引等\n",
    "- **集合** 自成一体的分类"
   ]
  },
  {
   "cell_type": "markdown",
   "metadata": {},
   "source": [
    "** 从可变不可变角度有： **\n",
    "- **不可变类型**\n",
    "  - 数字、字符串、元组、不可变集合\n",
    "- **可变类型**\n",
    "  - 列表、字典、可变集合"
   ]
  },
  {
   "cell_type": "markdown",
   "metadata": {},
   "source": [
    "### 列表"
   ]
  },
  {
   "cell_type": "markdown",
   "metadata": {},
   "source": [
    "- **列表可以包含任何种类的对象：**数字、字符串、甚至其他列表……\n",
    "  - 可变长度（动态）\n",
    "  - 异构（任何类型）\n",
    "  - 任意嵌套（列表嵌列表，矩阵）\n",
    "- **列表是可变对象（可变序列）**\n",
    "  - 支持原处修改\n",
    "  - 指定偏移值、分片、列表方法调用、删除......"
   ]
  },
  {
   "cell_type": "markdown",
   "metadata": {},
   "source": [
    "**TABLE. 常用列表常量及操作**\n",
    "\n",
    "| 操作        |    解释    |\n",
    "| :---------------- | :------------------ |\n",
    "|L = [] |An empty list|\n",
    "|L = [123, 'abc', 1.23, {}]| Four items: indexes 0..3|\n",
    "|L = ['Bob', 40.0, ['dev', 'mgr']] |Nested sublists|\n",
    "|L = list('spam')|List of an iterable’s items |\n",
    "|L = list(range(-4, 4))|  list of successive integers|\n",
    "|L[i]| Index |\n",
    "|L[i][j]|   index of index |\n",
    "|L[i:j]|   slice   | \n",
    "|len(L)|   length     |\n",
    "|L1 + L2 |Concatenate  repeat|\n",
    "|L * 3| repeat|\n",
    "|for x in L: print(x)|Iteration |\n",
    "|3 in L|membership |\n",
    "|L.append(4)|Methods: growing|\n",
    "|L.extend([5,6,7])| |\n",
    "|L.insert(i, X)||\n",
    "|L.index(X)|Methods: searching|\n",
    "|L.count(X)| |\n",
    "|L.sort()|sorting|\n",
    "|L.reverse()|reversing|\n",
    "|L.copy()|copying (3.3+)|\n",
    "|L.clear()|clearing (3.3+)|\n",
    "|L.pop(i)|Methods, statements: shrinking|\n",
    "|L.remove(X)||\n",
    "|del L[i]||\n",
    "|del L[i:j]||\n",
    "|L[i:j] = []||\n",
    "|L[i] = 3|Index assignment|\n",
    "|L[i:j] = [4,5,6]|slice assignment|\n",
    "|L = [x**2 for x in range(5)]|List comprehensions and maps|\n",
    "|list(map(ord, 'spam'))|||\n"
   ]
  },
  {
   "cell_type": "markdown",
   "metadata": {},
   "source": [
    "- **列表基本操作**"
   ]
  },
  {
   "cell_type": "code",
   "execution_count": 56,
   "metadata": {
    "collapsed": false
   },
   "outputs": [
    {
     "data": {
      "text/plain": [
       "4"
      ]
     },
     "execution_count": 56,
     "metadata": {},
     "output_type": "execute_result"
    }
   ],
   "source": [
    "len([1, 2, 3, 4])  # Length"
   ]
  },
  {
   "cell_type": "code",
   "execution_count": 57,
   "metadata": {
    "collapsed": false
   },
   "outputs": [
    {
     "data": {
      "text/plain": [
       "[1, 2, 3, 4, 4, 5, 6]"
      ]
     },
     "execution_count": 57,
     "metadata": {},
     "output_type": "execute_result"
    }
   ],
   "source": [
    "[1, 2, 3, 4] + [4, 5, 6] # Concatenation"
   ]
  },
  {
   "cell_type": "code",
   "execution_count": 58,
   "metadata": {
    "collapsed": false
   },
   "outputs": [
    {
     "data": {
      "text/plain": [
       "['Ni! ', 'Ni! ', 'Ni! ', 'Ni! ']"
      ]
     },
     "execution_count": 58,
     "metadata": {},
     "output_type": "execute_result"
    }
   ],
   "source": [
    "['Ni! ']*4   # Repetition"
   ]
  },
  {
   "cell_type": "code",
   "execution_count": 59,
   "metadata": {
    "collapsed": false
   },
   "outputs": [
    {
     "data": {
      "text/plain": [
       "('[1, 2]3 4', [1, 2, '3', '4'])"
      ]
     },
     "execution_count": 59,
     "metadata": {},
     "output_type": "execute_result"
    }
   ],
   "source": [
    "str([1, 2]) + \"3 4\", [1, 2] + list(\"34\")  # \"[1, 2]\" + \"3 4\" , [1, 2] + [\"3\", \"4\"]"
   ]
  },
  {
   "cell_type": "markdown",
   "metadata": {},
   "source": [
    "- **列表迭代和解析**"
   ]
  },
  {
   "cell_type": "code",
   "execution_count": 60,
   "metadata": {
    "collapsed": false,
    "scrolled": true
   },
   "outputs": [
    {
     "data": {
      "text/plain": [
       "True"
      ]
     },
     "execution_count": 60,
     "metadata": {},
     "output_type": "execute_result"
    }
   ],
   "source": [
    "3 in [1, 2, 3] # 成员检测"
   ]
  },
  {
   "cell_type": "code",
   "execution_count": 61,
   "metadata": {
    "collapsed": false
   },
   "outputs": [
    {
     "data": {
      "text/plain": [
       "['SSSS', 'PPPP', 'AAAA', 'MMMM', '!!!!', 'NNNN', 'OOOO']"
      ]
     },
     "execution_count": 61,
     "metadata": {},
     "output_type": "execute_result"
    }
   ],
   "source": [
    "res=[]\n",
    "for c in \"SPAM!NO\":  # 迭代\n",
    "    res.append(c * 4)\n",
    "res"
   ]
  },
  {
   "cell_type": "code",
   "execution_count": 62,
   "metadata": {
    "collapsed": false
   },
   "outputs": [
    {
     "data": {
      "text/plain": [
       "[1, 2, 0, 1, 2]"
      ]
     },
     "execution_count": 62,
     "metadata": {},
     "output_type": "execute_result"
    }
   ],
   "source": [
    "list(map(abs, [-1, -2, 0, 1, 2]) )  # 内置map函数，map across the sequence"
   ]
  },
  {
   "cell_type": "markdown",
   "metadata": {},
   "source": [
    "- **索引、分片和矩阵**"
   ]
  },
  {
   "cell_type": "code",
   "execution_count": 63,
   "metadata": {
    "collapsed": false
   },
   "outputs": [
    {
     "data": {
      "text/plain": [
       "('SPAM!', 'Spam', ['SPAM!'])"
      ]
     },
     "execution_count": 63,
     "metadata": {},
     "output_type": "execute_result"
    }
   ],
   "source": [
    "List_L = ['spam', 'Spam', \"SPAM!\"]  # 索引、分片\n",
    "List_L[2], List_L[-2], List_L[2:]"
   ]
  },
  {
   "cell_type": "code",
   "execution_count": 64,
   "metadata": {
    "collapsed": false
   },
   "outputs": [
    {
     "data": {
      "text/plain": [
       "5"
      ]
     },
     "execution_count": 64,
     "metadata": {},
     "output_type": "execute_result"
    }
   ],
   "source": [
    "matrix = [ [1, 2, 3],\n",
    "         [4, 5, 6],\n",
    "         [7, 8, 9]]\n",
    "matrix[1][1]"
   ]
  },
  {
   "cell_type": "markdown",
   "metadata": {},
   "source": [
    "- ** 原处修改列表 **\n",
    "  1. ** 索引、分片赋值**\n",
    "  2. **列表方法调用**"
   ]
  },
  {
   "cell_type": "code",
   "execution_count": 65,
   "metadata": {
    "collapsed": false
   },
   "outputs": [
    {
     "data": {
      "text/plain": [
       "['eggs', 'food', 0, 1, 'SPAM!']"
      ]
     },
     "execution_count": 65,
     "metadata": {},
     "output_type": "execute_result"
    }
   ],
   "source": [
    "List_L = ['spam', 'Spam', \"SPAM!\"]   \n",
    "List_L[0:2] = [\"eggs\", 'food', 0 , 1]   # 索引、分片赋值\n",
    "List_L"
   ]
  },
  {
   "cell_type": "code",
   "execution_count": 66,
   "metadata": {
    "collapsed": false
   },
   "outputs": [
    {
     "data": {
      "text/plain": [
       "['spam', 'Spam', 'SPAM!', 'eggs']"
      ]
     },
     "execution_count": 66,
     "metadata": {},
     "output_type": "execute_result"
    }
   ],
   "source": [
    "List_L = ['spam', 'Spam', \"SPAM!\"]   # append添加，z只允许单个元素\n",
    "List_L.append( \"eggs\" )\n",
    "List_L"
   ]
  },
  {
   "cell_type": "code",
   "execution_count": 67,
   "metadata": {
    "collapsed": false
   },
   "outputs": [
    {
     "name": "stdout",
     "output_type": "stream",
     "text": [
      "['SPAM!', 'Spam', 'eggs', 'spam']\n",
      "['spam', 'eggs', 'Spam', 'SPAM!']\n"
     ]
    }
   ],
   "source": [
    "List_L.sort() # sort排序 \n",
    "print(List_L)\n",
    "List_L.reverse() # 翻转\n",
    "print(List_L) "
   ]
  },
  {
   "cell_type": "code",
   "execution_count": 68,
   "metadata": {
    "collapsed": false
   },
   "outputs": [
    {
     "data": {
      "text/plain": [
       "['aBe', 'ABD', 'abc']"
      ]
     },
     "execution_count": 68,
     "metadata": {},
     "output_type": "execute_result"
    }
   ],
   "source": [
    "List_L = ['abc','ABD','aBe']   # 传入关键字修改排序行为\n",
    "List_L.sort(key = str.lower, reverse = True)   # 排序 1. Nomalize to lowercase 2. change sord order\n",
    "List_L"
   ]
  },
  {
   "cell_type": "code",
   "execution_count": 69,
   "metadata": {
    "collapsed": false
   },
   "outputs": [
    {
     "data": {
      "text/plain": [
       "[1, 2, 3, 4, 5, 6]"
      ]
     },
     "execution_count": 69,
     "metadata": {},
     "output_type": "execute_result"
    }
   ],
   "source": [
    "List_L = [1, 2, 3]   # extend 在末尾添加多个元素  \n",
    "List_L.extend([4, 5, 6])\n",
    "List_L "
   ]
  },
  {
   "cell_type": "code",
   "execution_count": 70,
   "metadata": {
    "collapsed": false
   },
   "outputs": [
    {
     "data": {
      "text/plain": [
       "['abc', 'aBe']"
      ]
     },
     "execution_count": 70,
     "metadata": {},
     "output_type": "execute_result"
    }
   ],
   "source": [
    "List_L = ['abc','ABD','aBe'] # del 索引或分片删除\n",
    "del List_L[1]\n",
    "List_L"
   ]
  },
  {
   "cell_type": "markdown",
   "metadata": {
    "collapsed": true
   },
   "source": [
    "###  字典(dict)\n",
    " - ** 与list的区别：**字典中的值通过键存取，而非索引。\n",
    " - **任意对象的无序集合**\n",
    " - **可变、异构、任意嵌套**\n",
    " - **映射类型**\n",
    " - **对象应用表（散列表）** 和list一样，存储的是对象引用（不是拷贝）"
   ]
  },
  {
   "cell_type": "markdown",
   "metadata": {},
   "source": [
    "**TABLE. 常用字典常量及操作**\n",
    "\n",
    "| 操作        |    解释    |\n",
    "| :---------------- | :------------------ |\n",
    "|\tD = {}  | Empty dictionary\t|\n",
    "|\tD = {'name': 'Bob', 'age': 40} | Two-item dictionary\t|\n",
    "|\tE = {'cto': {'name': 'Bob', 'age': 40}} | Nesting\t|\n",
    "|\tD = dict(name='Bob', age=40)\t|Alternative construction techniques:\t|\n",
    "|\tD = dict([('name', 'Bob'), ('age', 40)])\t|keywords, key/value pairs, zipped key/value pairs, key lists\t|\n",
    "|\tD = dict(zip(keyslist, valueslist))\t|     |\n",
    "|\tD = dict.fromkeys(['name', 'age'])\t|     |\n",
    "|\tD['name']\t    |\tIndexing by key\t|\n",
    "|\tE['cto']['age']\t |             |\n",
    "|\t'age' in D   | Membership: key present test\t|\n",
    "|\tD.keys()\t  |\tMethods: all keys,\t|\n",
    "|\tD.values()\t  |\tall values,\t|\n",
    "|\tD.items()\t  |\tall key+value tuples,\t|\n",
    "|\tD.copy()\t  |\tcopy (top-level),\t|\n",
    "|\tD.clear()\t  |\tclear (remove all items),\t|\n",
    "|\tD.update(D2)  |\tmerge by keys,\t|\n",
    "|\tD.get(key, default?)\t|\tfetch by key, if absent default (or None),\t|\n",
    "|\tD.pop(key, default?)\t|\tremove by key, if absent default (or error)\t|\n",
    "|\tD.setdefault(key, default?)\t|\tfetch by key, if absent set default (or None),\t|\n",
    "|\tD.popitem()\t |\tremove/return any (key, value) pair; etc.\t|\n",
    "|\tlen(D) | Length: number of stored entries\t|\n",
    "|\tD[key] = 42 |Adding/changing keys\t|\n",
    "|\tdel D[key] |Deleting entries by key\t|\n",
    "|\tlist(D.keys())\t|\tDictionary views (Python 3.X)\t|\n",
    "|\tD1.keys() & D2.keys()\t|       |\n",
    "|\tD.viewkeys(), D.viewvalues()     | Dictionary views (Python 2.7)\t|\n",
    "|\tD = {x: x*2 for x in range(10)}    | Dictionary comprehensions (Python 3.X, 2.7)\t|\n"
   ]
  },
  {
   "cell_type": "markdown",
   "metadata": {},
   "source": [
    "- ** 字典创建基本方法 **"
   ]
  },
  {
   "cell_type": "code",
   "execution_count": 71,
   "metadata": {
    "collapsed": false
   },
   "outputs": [
    {
     "data": {
      "text/plain": [
       "{'age': 45, 'name': 'mel'}"
      ]
     },
     "execution_count": 71,
     "metadata": {},
     "output_type": "execute_result"
    }
   ],
   "source": [
    "{ 'spam': 2, 'ham': 1, 'eggs': 3} # 传统常量表达式\n",
    "Dict = {}                            # 通过键动态建立\n",
    "Dict['name'] = 1                   \n",
    "Dict['spa'] = 'spa'\n",
    "dict(name='mel', age=45)          # dict key = value 形式\n",
    "dict( [ ('name', 'mel'), ('age',45)] )   # dict (key, value)形式"
   ]
  },
  {
   "cell_type": "code",
   "execution_count": 72,
   "metadata": {
    "collapsed": false
   },
   "outputs": [
    {
     "data": {
      "text/plain": [
       "{'a': 1, 'b': 1, 'c': 1}"
      ]
     },
     "execution_count": 72,
     "metadata": {},
     "output_type": "execute_result"
    }
   ],
   "source": [
    "dict.fromkeys(['a','b','c'],1) # fromkeys 具有相同的key"
   ]
  },
  {
   "cell_type": "markdown",
   "metadata": {},
   "source": [
    "- ** 字典基本操作 **"
   ]
  },
  {
   "cell_type": "code",
   "execution_count": 73,
   "metadata": {
    "collapsed": false
   },
   "outputs": [
    {
     "data": {
      "text/plain": [
       "2"
      ]
     },
     "execution_count": 73,
     "metadata": {},
     "output_type": "execute_result"
    }
   ],
   "source": [
    "Dict_d = { 'spam': 2, 'ham': 1, 'eggs': 3}\n",
    "Dict_d['spam']"
   ]
  },
  {
   "cell_type": "code",
   "execution_count": 74,
   "metadata": {
    "collapsed": false
   },
   "outputs": [
    {
     "data": {
      "text/plain": [
       "3"
      ]
     },
     "execution_count": 74,
     "metadata": {},
     "output_type": "execute_result"
    }
   ],
   "source": [
    "len(Dict_d) # Length"
   ]
  },
  {
   "cell_type": "code",
   "execution_count": 75,
   "metadata": {
    "collapsed": false
   },
   "outputs": [
    {
     "data": {
      "text/plain": [
       "True"
      ]
     },
     "execution_count": 75,
     "metadata": {},
     "output_type": "execute_result"
    }
   ],
   "source": [
    "'spam' in Dict_d  # 成员检测"
   ]
  },
  {
   "cell_type": "code",
   "execution_count": 76,
   "metadata": {
    "collapsed": false
   },
   "outputs": [
    {
     "data": {
      "text/plain": [
       "(['ham', 'spam', 'eggs'], [1, 2, 3], [('ham', 1), ('spam', 2), ('eggs', 3)])"
      ]
     },
     "execution_count": 76,
     "metadata": {},
     "output_type": "execute_result"
    }
   ],
   "source": [
    " # keys value and items 列， keys()/values()/items()返回可迭代试图（Python3.0）\n",
    "list(Dict_d.keys()), list(Dict_d.values()), list(Dict_d.items())  "
   ]
  },
  {
   "cell_type": "markdown",
   "metadata": {},
   "source": [
    "- ** 原处修改字典 **"
   ]
  },
  {
   "cell_type": "code",
   "execution_count": 77,
   "metadata": {
    "collapsed": false
   },
   "outputs": [
    {
     "data": {
      "text/plain": [
       "{'eggs': 3, 'ham': ['grill', 'bake', 'fry'], 'spam': 2}"
      ]
     },
     "execution_count": 77,
     "metadata": {},
     "output_type": "execute_result"
    }
   ],
   "source": [
    "Dict_d['ham'] = [ 'grill', 'bake', 'fry']  # Change entry\n",
    "Dict_d"
   ]
  },
  {
   "cell_type": "code",
   "execution_count": 78,
   "metadata": {
    "collapsed": false
   },
   "outputs": [
    {
     "data": {
      "text/plain": [
       "{'ham': ['grill', 'bake', 'fry'], 'spam': 2}"
      ]
     },
     "execution_count": 78,
     "metadata": {},
     "output_type": "execute_result"
    }
   ],
   "source": [
    "del Dict_d['eggs']\n",
    "Dict_d"
   ]
  },
  {
   "cell_type": "markdown",
   "metadata": {},
   "source": [
    "- ** 其他字典方法 **"
   ]
  },
  {
   "cell_type": "code",
   "execution_count": 79,
   "metadata": {
    "collapsed": false
   },
   "outputs": [
    {
     "data": {
      "text/plain": [
       "(23, None, 'no such a key')"
      ]
     },
     "execution_count": 79,
     "metadata": {},
     "output_type": "execute_result"
    }
   ],
   "source": [
    "Dict_spam = { 'spam': 23, 'aps': 12, 'nus': [1, 2, 3]}\n",
    "Dict_spam.get('spam'), Dict_spam.get('spms'), Dict_spam.get('spms', 'no such a key') # get通过键值取值，找不到默认返回None,也可自己设置"
   ]
  },
  {
   "cell_type": "code",
   "execution_count": 80,
   "metadata": {
    "collapsed": false
   },
   "outputs": [
    {
     "data": {
      "text/plain": [
       "{1: 'string', 2: 8, 'aps': 12, 'SPMA': 1, 'nus': [1, 2, 3], 'spam': 23}"
      ]
     },
     "execution_count": 80,
     "metadata": {},
     "output_type": "execute_result"
    }
   ],
   "source": [
    "Dict_spam.update( { 'SPMA': 1, 1 : 'string', 2 : 2**3 }  ) # update 更新添加\n",
    "Dict_spam"
   ]
  },
  {
   "cell_type": "code",
   "execution_count": 81,
   "metadata": {
    "collapsed": false
   },
   "outputs": [
    {
     "data": {
      "text/plain": [
       "{1: 'string', 'aps': 12, 'SPMA': 1, 'nus': [1, 2, 3], 'spam': 23}"
      ]
     },
     "execution_count": 81,
     "metadata": {},
     "output_type": "execute_result"
    }
   ],
   "source": [
    "Dict_spam.pop(2)  # pop删除\n",
    "Dict_spam"
   ]
  },
  {
   "cell_type": "markdown",
   "metadata": {},
   "source": [
    "** 字典用法注意事项**\n",
    "- 序列运算无效\n",
    "- 新索引赋值会添加项\n",
    "- 键不一定是字符串，但应该是不可变对象（数字、字符串、元组、类实例对象）"
   ]
  },
  {
   "cell_type": "markdown",
   "metadata": {},
   "source": [
    "- ** 字典用于稀疏数据 ** 稀疏矩阵"
   ]
  },
  {
   "cell_type": "code",
   "execution_count": 82,
   "metadata": {
    "collapsed": false
   },
   "outputs": [
    {
     "data": {
      "text/plain": [
       "{(2, 3, 4): 88, (7, 8, 9): 99}"
      ]
     },
     "execution_count": 82,
     "metadata": {},
     "output_type": "execute_result"
    }
   ],
   "source": [
    "Dict_Matrix = {}\n",
    "Dict_Matrix[(2, 3, 4)] = 88    # 元组作为key\n",
    "Dict_Matrix[(7, 8, 9)] = 99\n",
    "Dict_Matrix"
   ]
  },
  {
   "cell_type": "markdown",
   "metadata": {},
   "source": [
    "- **字典解析**"
   ]
  },
  {
   "cell_type": "code",
   "execution_count": 83,
   "metadata": {
    "collapsed": false
   },
   "outputs": [
    {
     "data": {
      "text/plain": [
       "{'a': 1, 'b': 2, 'c': 3}"
      ]
     },
     "execution_count": 83,
     "metadata": {},
     "output_type": "execute_result"
    }
   ],
   "source": [
    "{ k : v for (k, v) in zip(['a','b','c'], [1, 2, 3])} # 迭代"
   ]
  },
  {
   "cell_type": "code",
   "execution_count": 84,
   "metadata": {
    "collapsed": false
   },
   "outputs": [
    {
     "data": {
      "text/plain": [
       "{'A': 'A', 'M': 'M', 'P': 'P', 'S': 'S'}"
      ]
     },
     "execution_count": 84,
     "metadata": {},
     "output_type": "execute_result"
    }
   ],
   "source": [
    "{ k: k   for k in 'SPAM'  }"
   ]
  },
  {
   "cell_type": "markdown",
   "metadata": {},
   "source": [
    "- **Python3.0字典视图**\n",
    "  - keys/values/items返回视图对象\n",
    "  - 视图对象是可迭代的\n",
    "  - 循环结构自动迫使可迭代对象在每次循环时迭代、\n",
    "  - list迫使可迭代对象生成全部的值"
   ]
  },
  {
   "cell_type": "code",
   "execution_count": 85,
   "metadata": {
    "collapsed": false
   },
   "outputs": [
    {
     "data": {
      "text/plain": [
       "dict_keys(['a', 'b', 'c'])"
      ]
     },
     "execution_count": 85,
     "metadata": {},
     "output_type": "execute_result"
    }
   ],
   "source": [
    "Dict_d = { k : v for (k, v) in zip(['a','b','c'], [1, 2, 3])}\n",
    "Dict_keys = Dict_d.keys()  # 可迭代对象\n",
    "Dict_keys"
   ]
  },
  {
   "cell_type": "code",
   "execution_count": 86,
   "metadata": {
    "collapsed": false
   },
   "outputs": [
    {
     "name": "stdout",
     "output_type": "stream",
     "text": [
      "a\n",
      "b\n",
      "c\n"
     ]
    }
   ],
   "source": [
    "for k in Dict_keys: print(k) # 循环迫使自动迭代"
   ]
  },
  {
   "cell_type": "code",
   "execution_count": 87,
   "metadata": {
    "collapsed": false
   },
   "outputs": [
    {
     "data": {
      "text/plain": [
       "['a', 'b', 'c']"
      ]
     },
     "execution_count": 87,
     "metadata": {},
     "output_type": "execute_result"
    }
   ],
   "source": [
    "list(Dict_keys)  # 迫使可迭代对象生成全部的值"
   ]
  },
  {
   "cell_type": "markdown",
   "metadata": {},
   "source": [
    "- **字典视图和几何**\n",
    "\n",
    " - **视图对象类似于集合，支持交并补.....**\n",
    " - **keys() 和 items() 可以，但 values()不可**"
   ]
  },
  {
   "cell_type": "code",
   "execution_count": 88,
   "metadata": {
    "collapsed": false
   },
   "outputs": [
    {
     "data": {
      "text/plain": [
       "(dict_keys(['a', 'b', 'c']),\n",
       " dict_values([1, 2, 3]),\n",
       " dict_items([('a', 1), ('b', 2), ('c', 3)]))"
      ]
     },
     "execution_count": 88,
     "metadata": {},
     "output_type": "execute_result"
    }
   ],
   "source": [
    "Dict_key = { k : v for (k, v) in zip(['a','b','c'], [1, 2, 3])}.keys()\n",
    "Dict_value = { k : v for (k, v) in zip(['a','b','c'], [1, 2, 3])}.values()\n",
    "Dict_item = { k : v for (k, v) in zip(['a','b','c'], [1, 2, 3])}.items()\n",
    "Dict_key, Dict_value, Dict_item"
   ]
  },
  {
   "cell_type": "code",
   "execution_count": 89,
   "metadata": {
    "collapsed": false
   },
   "outputs": [
    {
     "data": {
      "text/plain": [
       "({'a', 'b', 'c', 'x'}, {('b', 2), ('c', 3), ('a', 1), 'x'})"
      ]
     },
     "execution_count": 89,
     "metadata": {},
     "output_type": "execute_result"
    }
   ],
   "source": [
    "Dict_key | {'x': 4} , Dict_item | {'x': 4}  # key  and item(treat as key) 并集 "
   ]
  },
  {
   "cell_type": "code",
   "execution_count": 90,
   "metadata": {
    "collapsed": false
   },
   "outputs": [
    {
     "data": {
      "text/plain": [
       "({'a'}, {'b'})"
      ]
     },
     "execution_count": 90,
     "metadata": {},
     "output_type": "execute_result"
    }
   ],
   "source": [
    "Dict_key & { 'a' }, Dict_key & { 'b': 10 }  # 交集"
   ]
  },
  {
   "cell_type": "markdown",
   "metadata": {},
   "source": [
    "- ** 排序字典键 **"
   ]
  },
  {
   "cell_type": "code",
   "execution_count": 91,
   "metadata": {
    "collapsed": false
   },
   "outputs": [
    {
     "data": {
      "text/plain": [
       "['a', 'd', 'e']"
      ]
     },
     "execution_count": 91,
     "metadata": {},
     "output_type": "execute_result"
    }
   ],
   "source": [
    "Dict_D = {'a': 1, 'e': 2, 'd': 3}\n",
    "Ks = list( Dict_D.keys() )  # 将视图对象转为list，才可排序\n",
    "Ks.sort()\n",
    "Ks"
   ]
  },
  {
   "cell_type": "markdown",
   "metadata": {},
   "source": [
    "- ** 字典大小比较不再有效**\n",
    "\n",
    "**但可以手动比较排序后的键列表:**"
   ]
  },
  {
   "cell_type": "code",
   "execution_count": 92,
   "metadata": {
    "collapsed": false
   },
   "outputs": [
    {
     "data": {
      "text/plain": [
       "True"
      ]
     },
     "execution_count": 92,
     "metadata": {},
     "output_type": "execute_result"
    }
   ],
   "source": [
    "Dict_D1 = {'a': 1, 'b': 2, 'c': 3}\n",
    "Dict_D2 = {'a': 1, 'b': 3, 'c': 2}\n",
    "sorted(Dict_D1.items()) < sorted(Dict_D2.items()) "
   ]
  },
  {
   "cell_type": "markdown",
   "metadata": {},
   "source": [
    "### 元组(tuple)\n",
    "- **任意对象的有序集合**\n",
    "- **通过偏移存取** \n",
    "  - 支持索引、分片\n",
    "- **不可变 序列 类型**\n",
    "- **固定长度、异构、任意嵌套**\n",
    "  - 由于元组不可变，在不生成一个拷贝的前提下不能增长或缩短\n",
    "- **与列表类似，最好看成是对象引用的数组**"
   ]
  },
  {
   "cell_type": "markdown",
   "metadata": {},
   "source": [
    "**TABLE. 常见元组常量和运算**\n",
    "\n",
    "| 操作        |    解释    |\n",
    "| :---------------- | :------------------ |\n",
    "|()             |  An empty tuple  |\n",
    "|T = (0, )         |  A one-item tuple (not an expression)|\n",
    "|T = (0, 'Ni', 1.2, 3)|  A four-item tuple | \n",
    "|T = 0, 'Ni', 1.2, 3  |  Another four-item tuple (same as prior line)|\n",
    "|T = ('Bob', ('dev', 'mgr')) | Nested tuples  |\n",
    "|T = tuple('spam')        | Tuple of items in an iterable |\n",
    "|T[i]       | Index, index of index, slice, length |\n",
    "|T[i][j]   |  |\n",
    "|T[i:j]    |  |\n",
    "|len(T)    |  |\n",
    "|T1 + T2   | Concatenate |\n",
    "|T * 3    |  repeat |\n",
    "|for x in T: print(x) | Iteration  |\n",
    "|'spam' in T |  membership  |\n",
    "| [x ** 2 for x in T] | |\n",
    "|T.index('Ni')  |  Methods in 2.6, 2.7, and 3.X: search, count |\n",
    "|T.count('Ni') | |\n",
    "|namedtuple('Emp', ['name', 'jobs']) |  Named tuple extension type | "
   ]
  },
  {
   "cell_type": "markdown",
   "metadata": {},
   "source": [
    "- **实际应用**"
   ]
  },
  {
   "cell_type": "code",
   "execution_count": 93,
   "metadata": {
    "collapsed": false
   },
   "outputs": [
    {
     "data": {
      "text/plain": [
       "(1, 2, 3, 4)"
      ]
     },
     "execution_count": 93,
     "metadata": {},
     "output_type": "execute_result"
    }
   ],
   "source": [
    "(1, 2) + (3, 4) #  Concatenation"
   ]
  },
  {
   "cell_type": "code",
   "execution_count": 94,
   "metadata": {
    "collapsed": false
   },
   "outputs": [
    {
     "data": {
      "text/plain": [
       "(1, 2, 1, 2, 1, 2, 1, 2)"
      ]
     },
     "execution_count": 94,
     "metadata": {},
     "output_type": "execute_result"
    }
   ],
   "source": [
    "(1, 2) * 4 # Repetition"
   ]
  },
  {
   "cell_type": "code",
   "execution_count": 95,
   "metadata": {
    "collapsed": false
   },
   "outputs": [
    {
     "data": {
      "text/plain": [
       "(1, (2, 3))"
      ]
     },
     "execution_count": 95,
     "metadata": {},
     "output_type": "execute_result"
    }
   ],
   "source": [
    "Tp_t = (1, 2, 3, 4) # 索引、切片\n",
    "Tp_t[0], Tp_t[1:3]"
   ]
  },
  {
   "cell_type": "markdown",
   "metadata": {},
   "source": [
    "- **转换、方法及不可变性**"
   ]
  },
  {
   "cell_type": "code",
   "execution_count": 96,
   "metadata": {
    "collapsed": false
   },
   "outputs": [
    {
     "data": {
      "text/plain": [
       "['aa', 'bb', 'cc', 'dd']"
      ]
     },
     "execution_count": 96,
     "metadata": {},
     "output_type": "execute_result"
    }
   ],
   "source": [
    "Tp_t = ('cc','aa','dd','bb') \n",
    "Tp_temp = list(Tp_t )  #　由tuple生成list\n",
    "Tp_temp.sort()         #　排序\n",
    "Tp_temp"
   ]
  },
  {
   "cell_type": "code",
   "execution_count": 97,
   "metadata": {
    "collapsed": false
   },
   "outputs": [
    {
     "data": {
      "text/plain": [
       "['aa', 'bb', 'cc', 'dd']"
      ]
     },
     "execution_count": 97,
     "metadata": {},
     "output_type": "execute_result"
    }
   ],
   "source": [
    "sorted(Tp_t ) # 或者使用sorted()函数来实现tuple排序"
   ]
  },
  {
   "cell_type": "markdown",
   "metadata": {},
   "source": [
    "- **列表解析也可用于tuple的转换**"
   ]
  },
  {
   "cell_type": "code",
   "execution_count": 98,
   "metadata": {
    "collapsed": false
   },
   "outputs": [
    {
     "data": {
      "text/plain": [
       "[21, 22, 23, 24, 25]"
      ]
     },
     "execution_count": 98,
     "metadata": {},
     "output_type": "execute_result"
    }
   ],
   "source": [
    "[ x + 20 for x in (1, 2, 3, 4, 5)]  # 使用tuple"
   ]
  },
  {
   "cell_type": "code",
   "execution_count": 99,
   "metadata": {
    "collapsed": false
   },
   "outputs": [
    {
     "data": {
      "text/plain": [
       "<generator object <genexpr> at 0x000000000472B678>"
      ]
     },
     "execution_count": 99,
     "metadata": {},
     "output_type": "execute_result"
    }
   ],
   "source": [
    "( x + 20 for x in (1, 2, 3, 4, 5) )  # 注意：这是生成器"
   ]
  },
  {
   "cell_type": "code",
   "execution_count": 100,
   "metadata": {
    "collapsed": false
   },
   "outputs": [
    {
     "data": {
      "text/plain": [
       "(1, 3)"
      ]
     },
     "execution_count": 100,
     "metadata": {},
     "output_type": "execute_result"
    }
   ],
   "source": [
    "Tp_t = (1, 2, 3, 2, 4, 2)\n",
    "Tp_t.index(2), Tp_t.count(2)  # 索引、计数"
   ]
  },
  {
   "cell_type": "markdown",
   "metadata": {},
   "source": [
    "- **元组的不可变性只适用于元组本身，而非其内容**"
   ]
  },
  {
   "cell_type": "code",
   "execution_count": 101,
   "metadata": {
    "collapsed": false
   },
   "outputs": [
    {
     "data": {
      "text/plain": [
       "(1, ['spam', 3], 4)"
      ]
     },
     "execution_count": 101,
     "metadata": {},
     "output_type": "execute_result"
    }
   ],
   "source": [
    "Tp_t = (1, [2, 3], 4)\n",
    "Tp_t[1][0] = 'spam'  # list是可变的\n",
    "Tp_t"
   ]
  },
  {
   "cell_type": "markdown",
   "metadata": {},
   "source": [
    "### 文件"
   ]
  },
  {
   "cell_type": "markdown",
   "metadata": {},
   "source": [
    "**TABLE. 常见文件运算**\n",
    "\n",
    "| 操作        |    解释    |\n",
    "| :---------------- | :------------------ |\n",
    "|output = open(r'C:\\spam', 'w') |Create output file ('w' means write)|\n",
    "|input = open('data', 'r')| Create input file ('r' means read)|\n",
    "|input = open('data') |Same as prior line ('r' is the default)|\n",
    "|aString = input.read() |Read entire file into a single string|\n",
    "|aString = input.read(N) |Read up to next N characters (or bytes) into a string|\n",
    "|aString = input.readline() |Read next line (including \\n newline) into a string|\n",
    "|aList = input.readlines()| Read entire file into list of line strings (with \\n)|\n",
    "|output.write(aString) |Write a string of characters (or bytes) into file|\n",
    "|output.writelines(aList) |Write all line strings in a list into file|\n",
    "|output.close()| Manual close (done for you when file is collected)|\n",
    "|output.flush() |Flush output buffer to disk without closing|\n",
    "|anyFile.seek(N)| Change file position to offset N for next operation|\n",
    "|for line in open('data'): |use line File iterators read line by line|\n",
    "|open('f.txt', encoding='latin-1')| Python 3.X Unicode text files (str strings)|\n",
    "|open('f.bin', 'rb') |Python 3.X bytes files (bytes strings)|\n",
    "|codecs.open('f.txt', encoding='utf8') |Python 2.X Unicode text files (unicode strings)|\n",
    "|open('f.bin', 'rb')| Python 2.X bytes files (str strings)|"
   ]
  },
  {
   "cell_type": "markdown",
   "metadata": {},
   "source": [
    "- **打开文件**\n",
    "  - 'r'   - 输入打开文件（默认）\n",
    "  - 'w ' - 输出生成并打开文件\n",
    "  - 'a'  - 为在文件尾部添加内容而打开文件\n",
    "  -  '.'  - 模式字符串尾部加上'b'可进行二进制数据转换\n",
    "  - '+' - 同时为输入输出文件\n",
    "- **使用文件** \n",
    "  - 文件迭代器是最好的读取行工具，读取时读入字符串、写出也必须是已经格式化的字符串\n",
    "  - 内容是字符串，不是对象\n",
    "  - close终止外部文件连接"
   ]
  },
  {
   "cell_type": "markdown",
   "metadata": {},
   "source": [
    "- **文件实际应用**"
   ]
  },
  {
   "cell_type": "code",
   "execution_count": 102,
   "metadata": {
    "collapsed": false
   },
   "outputs": [
    {
     "data": {
      "text/plain": [
       "18"
      ]
     },
     "execution_count": 102,
     "metadata": {},
     "output_type": "execute_result"
    }
   ],
   "source": [
    "myfile = open( 'myfile.txt', 'w')     # 打开文件，无则创建\n",
    "myfile.write( 'hellow text file \\n')  #　写入字符串，返回写入字符数"
   ]
  },
  {
   "cell_type": "code",
   "execution_count": 103,
   "metadata": {
    "collapsed": false
   },
   "outputs": [],
   "source": [
    "myfile.write( 'goodbye text file \\n')  \n",
    "myfile.close()"
   ]
  },
  {
   "cell_type": "code",
   "execution_count": 104,
   "metadata": {
    "collapsed": false
   },
   "outputs": [
    {
     "data": {
      "text/plain": [
       "('hellow text file \\n',\n",
       " 'goodbye text file \\n',\n",
       " 'hellow text file \\ngoodbye text file \\n')"
      ]
     },
     "execution_count": 104,
     "metadata": {},
     "output_type": "execute_result"
    }
   ],
   "source": [
    "myfile = open('myfile.txt')\n",
    "myfile.readline(), myfile.readline(), open('myfile.txt').read() # 读入字符串 readline() and read()"
   ]
  },
  {
   "cell_type": "code",
   "execution_count": 105,
   "metadata": {
    "collapsed": false
   },
   "outputs": [
    {
     "name": "stdout",
     "output_type": "stream",
     "text": [
      "hellow text file \n",
      "goodbye text file \n"
     ]
    }
   ],
   "source": [
    "for line in open('myfile.txt'): print(line, end='')  # 文件迭代器"
   ]
  },
  {
   "cell_type": "markdown",
   "metadata": {},
   "source": [
    "- **二进制数据存储与解析**\n",
    "  - 使用struct模块\n",
    "  - 'wb'模式打开文件"
   ]
  },
  {
   "cell_type": "code",
   "execution_count": 106,
   "metadata": {
    "collapsed": false
   },
   "outputs": [
    {
     "name": "stdout",
     "output_type": "stream",
     "text": [
      "b'\\x00\\x00\\x00\\x07spam\\x00\\x08'\n"
     ]
    }
   ],
   "source": [
    "binfile = open('data.bin','wb')  # bin文件\n",
    "import struct # 导入 struct 模块\n",
    "data = struct.pack('>i4sh',7,b'spam',8) # make packed binary data\n",
    "print(data)\n",
    "binfile.write(data)  # write into file \n",
    "binfile.close()"
   ]
  },
  {
   "cell_type": "code",
   "execution_count": 107,
   "metadata": {
    "collapsed": false
   },
   "outputs": [
    {
     "name": "stdout",
     "output_type": "stream",
     "text": [
      "b'\\x00\\x00\\x00\\x07spam\\x00\\x08'\n"
     ]
    },
    {
     "data": {
      "text/plain": [
       "(7, b'spam', 8)"
      ]
     },
     "execution_count": 107,
     "metadata": {},
     "output_type": "execute_result"
    }
   ],
   "source": [
    "binfile = open('data.bin','rb')\n",
    "data = binfile.read() # get packed binary data\n",
    "print(data)\n",
    "file_value = struct.unpack('>i4sh',data)  # unpack data => convert to Python objects\n",
    "file_value"
   ]
  },
  {
   "cell_type": "markdown",
   "metadata": {},
   "source": [
    "### 重访类型分类"
   ]
  },
  {
   "cell_type": "markdown",
   "metadata": {},
   "source": [
    "**TABLE. 对象分类**\n",
    "\n",
    "| 对象类型    |   分类   |     是否可变  |\n",
    "| :----------------: | :------------------ |:------------------ |\n",
    "| 数字| 数值 | 否 |\n",
    "| 字符串| 序列 | 否 |\n",
    "| 列表| 序列 | 是 |\n",
    "| 字典| 对应map | 是 |\n",
    "| 元组| 序列 | 否 |\n",
    "| 文件 | 扩展 | N/A |\n",
    "| Sets | 集合 | 是 |\n",
    "| frozenset | 集合 | 否 |\n",
    "| bytearray(3.0) |序列 | 是 |"
   ]
  },
  {
   "cell_type": "markdown",
   "metadata": {},
   "source": [
    "## Part3. Python语句和句法\n",
    "### 主要内容:\n",
    "**1. 赋值、表达式和打印 **\n",
    "\n",
    "**2. if测试和语法规则 **\n",
    "\n",
    "**3. while 和 for 循环**\n",
    "\n",
    "**4. 迭代器和解析Part1初探 **"
   ]
  },
  {
   "cell_type": "markdown",
   "metadata": {
    "collapsed": true
   },
   "source": [
    "**TABLE. Python statements语句**\n",
    "\n",
    "| Statement     |   Role   |     Example  |\n",
    "| :-------------: | :-----------|:-------------|\n",
    "| Assignment  | Creating references创建引用 |a, b = 'good', 'bad'|\n",
    "| Calls and other expressions |Running functions执行函数 |log.write(\"spam, ham\")\n",
    "| print calls | Printing objects打印对象 |print('The Killer', joke)\n",
    "| if/elif/else | Selecting actions选择动作 |if \"python\" in text: print(text) |\n",
    "| for/else    | Iteration 序列迭代| for x in mylist: print(x) |\n",
    "| while/else  | General loops 一般循环| while X > Y: print('hello') |\n",
    "| pass    |  Empty placeholder 空占位符  |  while True: pass  |\n",
    "| break   |  Loop exit  循环退出    | while True: if exittest(): break  |\n",
    "| continue | Loop continue  循环继续| while True: if skiptest(): continue |\n",
    "| def   |  Functions and methods 函数与方法 |def f(a, b, c=1, *d): print(a+b+c+d[0]) |\n",
    "| return  | Functions results def 函数结果|  f(a, b, c=1, * d): return a+b+c+d[0] |\n",
    "| yield | Generator functions 生成器函数| def gen(n): for i in n: **yield** i*2| \n",
    "| global | Namespaces 命名空间 | x = 'old'  def function(): **global** x, y; x = 'new'\n",
    "| nonlocal | Namespaces (3.X)  | def outer(): x = 'old' def function(): **nonlocal** x; x = 'new' |\n",
    "| import |Module access 模块访问 |import sys|\n",
    "|from  | Attribute access 属性访问| from sys import stdin|\n",
    "| class |  Building objects 创建对象|class Subclass(Superclass): staticData = [] def method(self): pass |\n",
    "|try/except/ |finally Catching exceptions捕捉异常 |try: action() except: print('action error')| \n",
    "| raise | Triggering exceptions 触发异常  | raise EndSearch(location)|\n",
    "| assert | Debugging checks调试检查 | assert X > Y, 'X too small' |\n",
    "| with/as|  Context managers (3.X, 2.6+) 环境管理器 | with open('data') as myfile: process(myfile)| \n",
    "| del|  Deleting references 删除引用 | del data[k]  ;  del data[i:j]  ;  del obj.attr  ;  del variable  |"
   ]
  },
  {
   "cell_type": "markdown",
   "metadata": {},
   "source": [
    "- **新的语法成分**\n",
    "  - ** \" : \"  **\n",
    "- **括号是可选的**\n",
    "  - if( x <y) ---  if x<y :\n",
    "- **无需 \" ; \" 终止行就是终止语句**\n",
    "- **以缩进结束作为代码块的结束**\n",
    "- **结构采用缩进，所见即所得 _what you see is what you get(WYSIWYG)_ **"
   ]
  },
  {
   "cell_type": "markdown",
   "metadata": {},
   "source": [
    "### 赋值"
   ]
  },
  {
   "cell_type": "markdown",
   "metadata": {},
   "source": [
    "- **赋值语句建立对象引用值**\n",
    "  - Python变量更像是指针，而不是数据存储区域\n",
    "- ** 变量名首次赋值时会被创建 **\n",
    "- ** 变量名在引用前必须先赋值 **\n",
    "- ** 隐式赋值 **\n",
    "  - 模块导入、函数、类定义、for循环变量以及函数参数"
   ]
  },
  {
   "cell_type": "markdown",
   "metadata": {},
   "source": [
    "**TABLE. 赋值语句的形式**\n",
    "\n",
    "| 运算  |   解释   | \n",
    "| :-------------  | :-----------|\n",
    "|spam = 'Spam' |Basic form基本形式|\n",
    "|spam, ham = 'yum', 'YUM' |Tuple assignment (positional)元组赋值|\n",
    "|[spam, ham] = ['yum', 'YUM']| List assignment (positional)列表赋值|\n",
    "|a, b, c, d = 'spam' |Sequence assignment, generalized序列赋值|\n",
    "|a, *b = 'spam'| Extended sequence unpacking (Python 3.X)扩展的序列解包|\n",
    "|spam = ham = 'lunch' |Multiple-target assignment 多目标赋值|\n",
    "|spams += 42 |Augmented assignment (equivalent to spams = spams + 42) 增强赋值运算|\n",
    "\n",
    "- 在最新的Python版本中，**元组与列表赋值语句已经统一为序列赋值语句的实例**，任何变量名的序列均可赋给任何值的序列"
   ]
  },
  {
   "cell_type": "markdown",
   "metadata": {},
   "source": [
    "- **序列赋值**\n",
    "  - 支持右侧任何可迭代对象"
   ]
  },
  {
   "cell_type": "code",
   "execution_count": 108,
   "metadata": {
    "collapsed": false
   },
   "outputs": [
    {
     "data": {
      "text/plain": [
       "(1, 2)"
      ]
     },
     "execution_count": 108,
     "metadata": {},
     "output_type": "execute_result"
    }
   ],
   "source": [
    "nudge = 1\n",
    "wink = 2\n",
    "A, B = nudge, wink     # Tuple assignment\n",
    "A, B"
   ]
  },
  {
   "cell_type": "code",
   "execution_count": 109,
   "metadata": {
    "collapsed": false
   },
   "outputs": [
    {
     "data": {
      "text/plain": [
       "(1, 2)"
      ]
     },
     "execution_count": 109,
     "metadata": {},
     "output_type": "execute_result"
    }
   ],
   "source": [
    "[C, D] = [nudge, wink] # List assignment\n",
    "C, D"
   ]
  },
  {
   "cell_type": "code",
   "execution_count": 110,
   "metadata": {
    "collapsed": false
   },
   "outputs": [
    {
     "data": {
      "text/plain": [
       "(1, 3)"
      ]
     },
     "execution_count": 110,
     "metadata": {},
     "output_type": "execute_result"
    }
   ],
   "source": [
    "[a, b, c] = (1, 2, 3)  # assign tuple values to list of names \n",
    "a, c"
   ]
  },
  {
   "cell_type": "code",
   "execution_count": 111,
   "metadata": {
    "collapsed": false
   },
   "outputs": [
    {
     "data": {
      "text/plain": [
       "('a', 'c')"
      ]
     },
     "execution_count": 111,
     "metadata": {},
     "output_type": "execute_result"
    }
   ],
   "source": [
    "(a, b, c) = 'abc'     # string to tuple \n",
    "a, c "
   ]
  },
  {
   "cell_type": "code",
   "execution_count": 112,
   "metadata": {
    "collapsed": false
   },
   "outputs": [
    {
     "data": {
      "text/plain": [
       "('s', 'p', 'am')"
      ]
     },
     "execution_count": 112,
     "metadata": {},
     "output_type": "execute_result"
    }
   ],
   "source": [
    "string = 'spam'\n",
    "a, b, c = list( string[:2] ) + [ string[2:] ] # 索引、切片\n",
    "a, b, c"
   ]
  },
  {
   "cell_type": "code",
   "execution_count": 113,
   "metadata": {
    "collapsed": false
   },
   "outputs": [
    {
     "data": {
      "text/plain": [
       "('s', 'p', 'am')"
      ]
     },
     "execution_count": 113,
     "metadata": {},
     "output_type": "execute_result"
    }
   ],
   "source": [
    "(a, b), c = string[:2], string[2:]   # 赋值嵌套序列\n",
    "a, b, c"
   ]
  },
  {
   "cell_type": "markdown",
   "metadata": {},
   "source": [
    "- **Python3.0扩展序列解包**\n",
    "  - 一般序列赋值存在左右值数目的不匹配问题  a, b = 'spam'\n",
    "  - \" * \"使之更通用\n",
    "  - 带\" * \"的变量自动与多余部分匹配"
   ]
  },
  {
   "cell_type": "code",
   "execution_count": 114,
   "metadata": {
    "collapsed": false
   },
   "outputs": [
    {
     "data": {
      "text/plain": [
       "(1, [2, 3], 4)"
      ]
     },
     "execution_count": 114,
     "metadata": {},
     "output_type": "execute_result"
    }
   ],
   "source": [
    "seq = [1, 2, 3, 4]    # 一般变量按顺序匹配，带*b变量自动与多余部分匹配\n",
    "a, *b, c = seq\n",
    "a, b, c"
   ]
  },
  {
   "cell_type": "code",
   "execution_count": 115,
   "metadata": {
    "collapsed": false
   },
   "outputs": [
    {
     "data": {
      "text/plain": [
       "('s', ['p', 'a', 'm'])"
      ]
     },
     "execution_count": 115,
     "metadata": {},
     "output_type": "execute_result"
    }
   ],
   "source": [
    "a, *b = 'spam'; a, b  # 总是会向带* 变量赋值一个list"
   ]
  },
  {
   "cell_type": "code",
   "execution_count": 116,
   "metadata": {
    "collapsed": false
   },
   "outputs": [
    {
     "data": {
      "text/plain": [
       "('s', 'p', 'a', 'm', [])"
      ]
     },
     "execution_count": 116,
     "metadata": {},
     "output_type": "execute_result"
    }
   ],
   "source": [
    "a, b, c, d, *e = 'spam' # 无内容剩余则赋空表[]\n",
    "a, b, c, d, e"
   ]
  },
  {
   "cell_type": "markdown",
   "metadata": {},
   "source": [
    "**注意点，可能会引发错误的情况：**\n",
    "1. 不能存在多个 **\" * \" **\n",
    "2. 值少了而没有 **\" * \" **\n",
    "3. 带** \" * \" **变量未编写在list或tuple中：*a = seq"
   ]
  },
  {
   "cell_type": "code",
   "execution_count": 117,
   "metadata": {
    "collapsed": false
   },
   "outputs": [
    {
     "name": "stdout",
     "output_type": "stream",
     "text": [
      "1 [2, 3] 4\n",
      "5 [6, 7] 8\n"
     ]
    }
   ],
   "source": [
    "for (a, *b, c) in [(1, 2, 3, 4),(5, 6, 7, 8)]: print(a,b,c) # 用于for循环中"
   ]
  },
  {
   "cell_type": "code",
   "execution_count": 118,
   "metadata": {
    "collapsed": false
   },
   "outputs": [
    {
     "data": {
      "text/plain": [
       "('spam', 'spam', 'spam')"
      ]
     },
     "execution_count": 118,
     "metadata": {},
     "output_type": "execute_result"
    }
   ],
   "source": [
    "a = b = c = 'spam'  # Multiple-Target Assignments 多目标赋值\n",
    "a, b, c"
   ]
  },
  {
   "cell_type": "markdown",
   "metadata": {},
   "source": [
    "**TABLE. 增强赋值语句**\n",
    "```Python\n",
    "X += Y     X &= Y     X -= Y     X |= Y \n",
    " \n",
    "X *= Y     X ^= Y     X /= Y     X >>= Y\n",
    "\n",
    "X %= Y     X <<= Y     X **= Y    X //= Y\n",
    "```\n",
    "\n",
    "- **增强赋值以及共享引用**\n",
    "  - **\"+ =\" **对于列表是在远处修改的意思(修改内存中的值，如下例)"
   ]
  },
  {
   "cell_type": "code",
   "execution_count": 119,
   "metadata": {
    "collapsed": false
   },
   "outputs": [
    {
     "data": {
      "text/plain": [
       "([1, 2, 3, 4], [1, 2])"
      ]
     },
     "execution_count": 119,
     "metadata": {},
     "output_type": "execute_result"
    }
   ],
   "source": [
    "L = [1, 2]\n",
    "M = L           # L and M reference the same object\n",
    "L = L + [3, 4]  # Concatenation makes a new object\n",
    "L, M            # Changes L but not M"
   ]
  },
  {
   "cell_type": "code",
   "execution_count": 120,
   "metadata": {
    "collapsed": false
   },
   "outputs": [
    {
     "data": {
      "text/plain": [
       "([1, 2, 3, 4], [1, 2, 3, 4])"
      ]
     },
     "execution_count": 120,
     "metadata": {},
     "output_type": "execute_result"
    }
   ],
   "source": [
    "L = [1, 2]\n",
    "M = L\n",
    "L += [3, 4]  # But += really means extend\n",
    "L, M         # M sees the in-place change too!"
   ]
  },
  {
   "cell_type": "markdown",
   "metadata": {},
   "source": [
    "- **变量名命名规则**\n",
    "\n",
    "**语法：（_下划线或字母_） + （_任意数目的字母、数字、下划线_） ；变量名必须以下划线或字母开头**\n",
    "\n",
    "**TABLE. Python 3.X 保留字**\n",
    "\n",
    "| Reserved words     | \n",
    "| :-------------  | :-----------|:-----------|:-----------|:-----------|\n",
    "|False| class| finally |is |return |\n",
    "|None |continue| for |lambda |try |\n",
    "|True| def |from| nonlocal |while |\n",
    "|and| del |global| not |with|\n",
    "|as| elif |if |or |yield |\n",
    "|assert |else| import| pass| |\n",
    "|break |except |in |raise|||\n",
    " **命名惯例**\n",
    "  - 以**单一下划线开头**的变量名（`_X`）不会被from module import * 语句导入\n",
    "  - **前后都有双下划线的变量**（`__X__`）是系统定义的变量名，对解释器有特殊意义\n",
    "  - **两个下划线开头的变量**（`__X`）是类的本地（“压缩”）变量 \n",
    "  - 通过交互模式运行时，只有**单个下划线的变量名**（`_`）会保存最后的表达式结果"
   ]
  },
  {
   "cell_type": "markdown",
   "metadata": {},
   "source": [
    "- **表达式语句**\n",
    "**TABLE. 常见Python表达式语句**\n",
    "\n",
    "| 运算    |  解释 |\n",
    "| :-------------  | :-----------|\n",
    "|spam(eggs, ham) |Function calls函数调用|\n",
    "|spam.ham(eggs)| Method calls方法调用|\n",
    "|spam |Printing variables in the interactive interpreter 在交互模式解释器内打印变量|\n",
    "|print(a, b, c, sep='') |Printing operations in Python 3.X 打印操作|\n",
    "|yield x ** 2 |Yielding expression statements 产生表达式语句|"
   ]
  },
  {
   "cell_type": "markdown",
   "metadata": {
    "collapsed": true
   },
   "source": [
    "- **打印操作**"
   ]
  },
  {
   "cell_type": "markdown",
   "metadata": {},
   "source": [
    "**Syntax:** print([object, ...][, sep=' '][, end='\\n'][, file=sys.stdout][, flush=False])\n",
    "1. **sep：**在每个对象的文本之间插入一个字符串\n",
    "2. **end：**添加在打印文本末尾的一个字符串\n",
    "3. **file：**指定文本将要发送的文件、标准流或者其他类似文件对象\n"
   ]
  },
  {
   "cell_type": "code",
   "execution_count": 121,
   "metadata": {
    "collapsed": false
   },
   "outputs": [
    {
     "name": "stdout",
     "output_type": "stream",
     "text": [
      "spam 99 ['eggs']\n"
     ]
    }
   ],
   "source": [
    "print('spam', 99, ['eggs']) # 默认print调用在打印对象间添加一个空格"
   ]
  },
  {
   "cell_type": "code",
   "execution_count": 122,
   "metadata": {
    "collapsed": false
   },
   "outputs": [
    {
     "name": "stdout",
     "output_type": "stream",
     "text": [
      "spam,99,['eggs']\n"
     ]
    }
   ],
   "source": [
    "print('spam', 99, ['eggs'], sep=',') # 通过sep设置分隔字符"
   ]
  },
  {
   "cell_type": "code",
   "execution_count": 123,
   "metadata": {
    "collapsed": false
   },
   "outputs": [
    {
     "name": "stdout",
     "output_type": "stream",
     "text": [
      "spam 99 ['eggs']...\n"
     ]
    }
   ],
   "source": [
    "print('spam', 99, ['eggs'],end='...\\n')  # 默认结尾\\n也可通过end设置"
   ]
  },
  {
   "cell_type": "code",
   "execution_count": 124,
   "metadata": {
    "collapsed": false
   },
   "outputs": [
    {
     "name": "stdout",
     "output_type": "stream",
     "text": [
      "spam;99;['eggs']...\n"
     ]
    }
   ],
   "source": [
    "print('spam', 99, ['eggs'],end='...\\n', sep=';')  # 顺序没有关系 "
   ]
  },
  {
   "cell_type": "code",
   "execution_count": 125,
   "metadata": {
    "collapsed": false
   },
   "outputs": [
    {
     "name": "stdout",
     "output_type": "stream",
     "text": [
      "Result: 3.1416, 00042\n"
     ]
    }
   ],
   "source": [
    "print('%s: %-.4f, %05d' % ('Result', 3.14159, 42)) # 字符串格式化工具"
   ]
  },
  {
   "cell_type": "markdown",
   "metadata": {},
   "source": [
    "**打印至文件**"
   ]
  },
  {
   "cell_type": "code",
   "execution_count": 126,
   "metadata": {
    "collapsed": false,
    "scrolled": true
   },
   "outputs": [
    {
     "name": "stdout",
     "output_type": "stream",
     "text": [
      "spam...99...['eggs']\n",
      "\n"
     ]
    }
   ],
   "source": [
    "print('spam', 99, ['eggs'],sep='...',file = open('data.txt','w')) # 指定file\n",
    "print(open('data.txt').read())"
   ]
  },
  {
   "cell_type": "markdown",
   "metadata": {},
   "source": [
    "- **打印流重定向**\n",
    "  - print提供了sys.stdout对象的简单接口，print只是传送文本给sys.stdout.write方法\n",
    "  - 暂时性重定向file关键字"
   ]
  },
  {
   "cell_type": "code",
   "execution_count": 127,
   "metadata": {
    "collapsed": false
   },
   "outputs": [
    {
     "name": "stdout",
     "output_type": "stream",
     "text": [
      "Hello Word!"
     ]
    }
   ],
   "source": [
    "import sys\n",
    "sys.stdout.write('Hello Word!')  # sys.stdout对象"
   ]
  },
  {
   "cell_type": "code",
   "execution_count": 128,
   "metadata": {
    "collapsed": false
   },
   "outputs": [
    {
     "name": "stdout",
     "output_type": "stream",
     "text": [
      "spam\n",
      "1 2 3\n"
     ]
    }
   ],
   "source": [
    "import sys\n",
    "temp = sys.stdout # 缓存旧定向\n",
    "sys.stdout = open('log.txt','a') # 重定向为文件log.txt\n",
    "print('spam')\n",
    "print(1, 2, 3)\n",
    "sys.stdout.close()  # 将输出流缓存输出到磁盘log.txt\n",
    "sys.stdout = temp   # 恢复定向\n",
    "print('spam')\n",
    "print(1, 2, 3)"
   ]
  },
  {
   "cell_type": "code",
   "execution_count": 129,
   "metadata": {
    "collapsed": false
   },
   "outputs": [
    {
     "name": "stdout",
     "output_type": "stream",
     "text": [
      "spam\n",
      "1 2 3\n",
      "SPAM!DOWN\n",
      "SPAM!DOWN\n",
      "spam\n",
      "1 2 3\n",
      "SPAM!DOWN\n",
      "spam\n",
      "1 2 3\n",
      "spam\n",
      "1 2 3\n",
      "spam\n",
      "1 2 3\n",
      "SPAM!DOWN\n",
      "SPAM!DOWN\n",
      "spam\n",
      "1 2 3\n",
      "SPAM!DOWN\n",
      "spam\n",
      "1 2 3\n",
      "SPAM!DOWN\n",
      "spam\n",
      "1 2 3\n",
      "\n"
     ]
    }
   ],
   "source": [
    "log = open('log.txt','a')\n",
    "print('SPAM!DOWN',file = log)  # 暂时性重定向file关键字\n",
    "print(open('log.txt').read())"
   ]
  },
  {
   "cell_type": "markdown",
   "metadata": {
    "collapsed": true
   },
   "source": [
    "### if测试和语法规则\n",
    "**Syntax:**\n",
    "```Python\n",
    "if test1:         # if test\n",
    "    statements1   # Associated block\n",
    "elif test2:       # Optional elifs\n",
    "    statements2\n",
    "else:             # Optional else\n",
    "    statements3\n",
    "```"
   ]
  },
  {
   "cell_type": "code",
   "execution_count": 130,
   "metadata": {
    "collapsed": false
   },
   "outputs": [
    {
     "name": "stdout",
     "output_type": "stream",
     "text": [
      "1.99\n"
     ]
    }
   ],
   "source": [
    "choice = 'ham'\n",
    "if choice == 'spam':  # The equivalent if statement\n",
    "    print(1.25)\n",
    "elif choice == 'ham':\n",
    "    print(1.99)\n",
    "elif choice == 'eggs':\n",
    "    print(0.99)\n",
    "elif choice == 'bacon':\n",
    "    print(1.10)\n",
    "else:\n",
    "    print('Bad choice')"
   ]
  },
  {
   "cell_type": "markdown",
   "metadata": {},
   "source": [
    "** Python程序书写 **\n",
    "   1. 括号可以让行保持连续(表达式、函数)\n",
    "   2. \" \\ \"反斜线保持连续"
   ]
  },
  {
   "cell_type": "code",
   "execution_count": 131,
   "metadata": {
    "collapsed": false
   },
   "outputs": [
    {
     "data": {
      "text/plain": [
       "['Good', 'Bad', 'Ugly']"
      ]
     },
     "execution_count": 131,
     "metadata": {},
     "output_type": "execute_result"
    }
   ],
   "source": [
    "L = [\"Good\",\n",
    "     \"Bad\",\n",
    "     \"Ugly\"]; L  # 括号可以让行保持连续"
   ]
  },
  {
   "cell_type": "code",
   "execution_count": 132,
   "metadata": {
    "collapsed": false
   },
   "outputs": [
    {
     "name": "stdout",
     "output_type": "stream",
     "text": [
      "new\n"
     ]
    }
   ],
   "source": [
    "if ('a' == 'b ' or  'c' == 'd' or\n",
    "    'd' == 'e' or 'e' == 'e'): print('new')"
   ]
  },
  {
   "cell_type": "code",
   "execution_count": 133,
   "metadata": {
    "collapsed": false
   },
   "outputs": [
    {
     "name": "stdout",
     "output_type": "stream",
     "text": [
      "olde\n"
     ]
    }
   ],
   "source": [
    "if 'a' == 'b ' or  'c' == 'd' or  \\\n",
    "    'd' == 'e' or 'e' == 'e': \n",
    "    print('olde')   # \" \\ \"反斜线保持连续"
   ]
  },
  {
   "cell_type": "markdown",
   "metadata": {
    "collapsed": true
   },
   "source": [
    "- ** if/else三元表达式 **\n",
    "\n",
    "**Syntax: A = Y if X else Z**"
   ]
  },
  {
   "cell_type": "code",
   "execution_count": 134,
   "metadata": {
    "collapsed": false
   },
   "outputs": [
    {
     "data": {
      "text/plain": [
       "'t'"
      ]
     },
     "execution_count": 134,
     "metadata": {},
     "output_type": "execute_result"
    }
   ],
   "source": [
    "A = 't' if 'spam' else 'f' ; A# For strings, nonempty means true"
   ]
  },
  {
   "cell_type": "markdown",
   "metadata": {
    "collapsed": true
   },
   "source": [
    "### while和for循环\n",
    "** 1.while Syntax: **\n",
    "```Python\n",
    "while test:    # Loop test\n",
    "    statements # Loop body\n",
    "else:          # Optional else\n",
    "    statements # Run if didn't exit loop with break\n",
    "```"
   ]
  },
  {
   "cell_type": "code",
   "execution_count": 135,
   "metadata": {
    "collapsed": false
   },
   "outputs": [
    {
     "name": "stdout",
     "output_type": "stream",
     "text": [
      "spam->pam->am->m->"
     ]
    }
   ],
   "source": [
    "x = 'spam'\n",
    ">>> while x:  # While x is not empty\n",
    "        print(x, end='->')  \n",
    "        x = x[1:]  # Strip first character off x"
   ]
  },
  {
   "cell_type": "markdown",
   "metadata": {
    "collapsed": true
   },
   "source": [
    "- **break, continue, pass, and the Loop else**\n",
    "  - ** break **跳出最近所在的循环（跳过整个循环语句）\n",
    "  - ** continue **调到最近所在循环的开头（来到循环首行）\n",
    "  - ** pass **空占位语句"
   ]
  },
  {
   "cell_type": "markdown",
   "metadata": {
    "collapsed": true
   },
   "source": [
    "** 2.for Syntax: **\n",
    "```Python\n",
    "for target in object: # Assign object items to target\n",
    "    statements        # Repeated loop body: use target\n",
    "else:                 # Optional else part\n",
    "    statements        # If we didn't hit a 'break'\n",
    "```"
   ]
  },
  {
   "cell_type": "code",
   "execution_count": 136,
   "metadata": {
    "collapsed": false
   },
   "outputs": [
    {
     "name": "stdout",
     "output_type": "stream",
     "text": [
      "1 2 3\n",
      "X Y 6\n"
     ]
    }
   ],
   "source": [
    "for ((a, b), c) in [([1, 2], 3), ['XY', 6]]: print(a, b, c) "
   ]
  },
  {
   "cell_type": "code",
   "execution_count": 137,
   "metadata": {
    "collapsed": false
   },
   "outputs": [
    {
     "name": "stdout",
     "output_type": "stream",
     "text": [
      "1 [2, 3] 4\n",
      "5 [6, 7] 8\n"
     ]
    }
   ],
   "source": [
    "for (a, *b, c) in [(1, 2, 3, 4), (5, 6, 7, 8)]: #  Python 3.X extended sequence assignment in for loops\n",
    "    print(a, b, c)"
   ]
  },
  {
   "cell_type": "markdown",
   "metadata": {
    "collapsed": true
   },
   "source": [
    "**嵌套for循环**"
   ]
  },
  {
   "cell_type": "code",
   "execution_count": 138,
   "metadata": {
    "collapsed": false
   },
   "outputs": [
    {
     "name": "stdout",
     "output_type": "stream",
     "text": [
      "(4, 5) was found\n",
      "3.14 not found!\n"
     ]
    }
   ],
   "source": [
    "items = [\"aaa\", 111, (4, 5), 2.01]  # A set of objects\n",
    "tests = [(4, 5), 3.14]              # Keys to search for\n",
    "for key in tests:                   # For all keys\n",
    "    for item in items:              # For all items\n",
    "        if item == key:             # Check for match\n",
    "            print(key, \"was found\")\n",
    "            break\n",
    "    else:                           # for - else \n",
    "        print(key, \"not found!\")"
   ]
  },
  {
   "cell_type": "markdown",
   "metadata": {},
   "source": [
    "- **range()、zip()、map()、enumerate()**"
   ]
  },
  {
   "cell_type": "code",
   "execution_count": 139,
   "metadata": {
    "collapsed": false
   },
   "outputs": [
    {
     "data": {
      "text/plain": [
       "(range(0, 10, 2), [0, 2, 4, 6, 8])"
      ]
     },
     "execution_count": 139,
     "metadata": {},
     "output_type": "execute_result"
    }
   ],
   "source": [
    "range(0,10,2), list(range(0,10,2))   # range是一个迭代器"
   ]
  },
  {
   "cell_type": "code",
   "execution_count": 140,
   "metadata": {
    "collapsed": false
   },
   "outputs": [
    {
     "data": {
      "text/plain": [
       "(<zip at 0x47e61c8>,\n",
       " [(1, 5), (2, 6), (3, 7), (4, 8)],\n",
       " [(1, 5), (2, 6), (3, 7), (4, 8)])"
      ]
     },
     "execution_count": 140,
     "metadata": {},
     "output_type": "execute_result"
    }
   ],
   "source": [
    "zip([1,2,3,4], [5,6,7,8]), list(zip([1,2,3,4], [5,6,7,8])), list(zip((1,2,3,4),(5,6,7,8))) # zip也是一个可迭代对象"
   ]
  },
  {
   "cell_type": "code",
   "execution_count": 141,
   "metadata": {
    "collapsed": false
   },
   "outputs": [
    {
     "data": {
      "text/plain": [
       "(<map at 0x47d6048>, [115, 112, 97, 109])"
      ]
     },
     "execution_count": 141,
     "metadata": {},
     "output_type": "execute_result"
    }
   ],
   "source": [
    "map(ord, 'spam'), list(map(ord, 'spam')) # 同样,map也是"
   ]
  },
  {
   "cell_type": "code",
   "execution_count": 142,
   "metadata": {
    "collapsed": false
   },
   "outputs": [
    {
     "name": "stdout",
     "output_type": "stream",
     "text": [
      "s appears at offset 0\n",
      "p appears at offset 1\n",
      "a appears at offset 2\n",
      "m appears at offset 3\n"
     ]
    }
   ],
   "source": [
    "S = 'spam'\n",
    "for (offset,item) in enumerate(S):  # enumerate产生元素及其索引\n",
    "    print(item, 'appears at offset', offset)"
   ]
  },
  {
   "cell_type": "code",
   "execution_count": 143,
   "metadata": {
    "collapsed": false
   },
   "outputs": [
    {
     "data": {
      "text/plain": [
       "((0, 's'), (1, 'p'), (2, 'a'), (3, 'm'))"
      ]
     },
     "execution_count": 143,
     "metadata": {},
     "output_type": "execute_result"
    }
   ],
   "source": [
    "eum_s = enumerate('spam'); next(eum_s),next(eum_s),next(eum_s),next(eum_s)"
   ]
  },
  {
   "cell_type": "markdown",
   "metadata": {},
   "source": [
    "### 迭代器和解析，Part1\n",
    "- **迭代工具：**for循环、列表解析、in成员关系检测、map等内置函数\n",
    "- **可迭代的**指的是支持**iter**的对象，而**迭代器**指的是iter返回的一个支持**next()**的对象\n",
    "- **内置函数next()**会自动调用对象的_ _next_ _方法"
   ]
  },
  {
   "cell_type": "markdown",
   "metadata": {},
   "source": [
    "- **文件对象就是自己的迭代器**"
   ]
  },
  {
   "cell_type": "code",
   "execution_count": 144,
   "metadata": {
    "collapsed": false
   },
   "outputs": [
    {
     "data": {
      "text/plain": [
       "\"spam...99...['eggs']\\n\""
      ]
     },
     "execution_count": 144,
     "metadata": {},
     "output_type": "execute_result"
    }
   ],
   "source": [
    "file = open('data.txt')\n",
    "next(file)"
   ]
  },
  {
   "cell_type": "markdown",
   "metadata": {},
   "source": [
    "- **列表以及其他很多内置对象不是自身的迭代器，必须调用iter来启动**"
   ]
  },
  {
   "cell_type": "code",
   "execution_count": 145,
   "metadata": {
    "collapsed": false
   },
   "outputs": [
    {
     "data": {
      "text/plain": [
       "(1, 2)"
      ]
     },
     "execution_count": 145,
     "metadata": {},
     "output_type": "execute_result"
    }
   ],
   "source": [
    "L = [1, 2, 3]\n",
    "I = iter(L)\n",
    "next(I), next(I)"
   ]
  },
  {
   "cell_type": "markdown",
   "metadata": {},
   "source": [
    "- **其他内置类型迭代器**\n",
    "  1. dict有一个迭代器、返回键值\n",
    "  2. range/enumerate等内置函数生成的"
   ]
  },
  {
   "cell_type": "code",
   "execution_count": 146,
   "metadata": {
    "collapsed": false
   },
   "outputs": [
    {
     "data": {
      "text/plain": [
       "('a', 'b', 'c')"
      ]
     },
     "execution_count": 146,
     "metadata": {},
     "output_type": "execute_result"
    }
   ],
   "source": [
    "D = {'a':1, 'b':2, 'c':3}\n",
    "I = iter(D)\n",
    "next(I), next(I), next(I)"
   ]
  },
  {
   "cell_type": "code",
   "execution_count": 147,
   "metadata": {
    "collapsed": false
   },
   "outputs": [
    {
     "data": {
      "text/plain": [
       "(0, 1, 2)"
      ]
     },
     "execution_count": 147,
     "metadata": {},
     "output_type": "execute_result"
    }
   ],
   "source": [
    "R = range(5)\n",
    "I = iter(R)\n",
    "next(I),next(I),next(I)"
   ]
  },
  {
   "cell_type": "code",
   "execution_count": 148,
   "metadata": {
    "collapsed": false
   },
   "outputs": [
    {
     "data": {
      "text/plain": [
       "((0, 's'), (1, 'p'), (2, 'a'))"
      ]
     },
     "execution_count": 148,
     "metadata": {},
     "output_type": "execute_result"
    }
   ],
   "source": [
    "E = enumerate('spam')\n",
    "next(E),next(E),next(E)"
   ]
  },
  {
   "cell_type": "markdown",
   "metadata": {},
   "source": [
    "- **列表解析**"
   ]
  },
  {
   "cell_type": "code",
   "execution_count": 149,
   "metadata": {
    "collapsed": false
   },
   "outputs": [
    {
     "data": {
      "text/plain": [
       "[11, 12, 13, 14, 15]"
      ]
     },
     "execution_count": 149,
     "metadata": {},
     "output_type": "execute_result"
    }
   ],
   "source": [
    "L = [x + 10 for x in [1, 2, 3, 4, 5]]; L"
   ]
  },
  {
   "cell_type": "code",
   "execution_count": 150,
   "metadata": {
    "collapsed": false
   },
   "outputs": [
    {
     "data": {
      "text/plain": [
       "[\"spam...99...['eggs']\"]"
      ]
     },
     "execution_count": 150,
     "metadata": {},
     "output_type": "execute_result"
    }
   ],
   "source": [
    "lines = [line.rstrip() for line in open('data.txt') if line[0] == 's'] # 用于文件，if过滤语句\n",
    "lines"
   ]
  },
  {
   "cell_type": "code",
   "execution_count": 151,
   "metadata": {
    "collapsed": false
   },
   "outputs": [
    {
     "data": {
      "text/plain": [
       "['1 2 3\\n',\n",
       " '1 2 3\\n',\n",
       " '1 2 3\\n',\n",
       " '1 2 3\\n',\n",
       " '1 2 3\\n',\n",
       " '1 2 3\\n',\n",
       " '1 2 3\\n',\n",
       " '1 2 3\\n',\n",
       " 'SPAM!DOWN\\n',\n",
       " 'SPAM!DOWN\\n',\n",
       " 'SPAM!DOWN\\n',\n",
       " 'SPAM!DOWN\\n',\n",
       " 'SPAM!DOWN\\n',\n",
       " 'SPAM!DOWN\\n',\n",
       " 'SPAM!DOWN\\n',\n",
       " 'spam\\n',\n",
       " 'spam\\n',\n",
       " 'spam\\n',\n",
       " 'spam\\n',\n",
       " 'spam\\n',\n",
       " 'spam\\n',\n",
       " 'spam\\n',\n",
       " 'spam\\n']"
      ]
     },
     "execution_count": 151,
     "metadata": {},
     "output_type": "execute_result"
    }
   ],
   "source": [
    "sorted(open('log.txt'))  # sorted排序可迭代对象中的各项，返回列表"
   ]
  },
  {
   "cell_type": "code",
   "execution_count": 152,
   "metadata": {
    "collapsed": false
   },
   "outputs": [
    {
     "data": {
      "text/plain": [
       "'spam\\n1 2 3\\nSPAM!DOWN\\nSPAM!DOWN\\nspam\\n1 2 3\\nSPAM!DOWN\\nspam\\n1 2 3\\nspam\\n1 2 3\\nspam\\n1 2 3\\nSPAM!DOWN\\nSPAM!DOWN\\nspam\\n1 2 3\\nSPAM!DOWN\\nspam\\n1 2 3\\nSPAM!DOWN\\nspam\\n1 2 3\\n'"
      ]
     },
     "execution_count": 152,
     "metadata": {},
     "output_type": "execute_result"
    }
   ],
   "source": [
    "import functools, operator\n",
    "functools.reduce(operator.add, open('log.txt')) # reduce针对可迭代对象成对象运行函数"
   ]
  },
  {
   "cell_type": "markdown",
   "metadata": {},
   "source": [
    "- Specifically, in addition to the iterators associated with built-in types such as files and dictionaries, \n",
    "the dictionary methods keys, values, and items return iterable objects in Python 3.X, as do the \n",
    "built-in functions range, map, zip, and filter.\n",
    "见前"
   ]
  },
  {
   "cell_type": "markdown",
   "metadata": {},
   "source": [
    "- **多个迭代器VS单个迭代器**是否可以生成独立的多个迭代器\n",
    "  - 注意：zip/map/filter不支持多个活跃迭代器，range()则支持\n",
    "  - 通常，iter()调用返回的支持多个独立迭代器"
   ]
  },
  {
   "cell_type": "code",
   "execution_count": 153,
   "metadata": {
    "collapsed": false
   },
   "outputs": [
    {
     "data": {
      "text/plain": [
       "((1, 10), (2, 11))"
      ]
     },
     "execution_count": 153,
     "metadata": {},
     "output_type": "execute_result"
    }
   ],
   "source": [
    "Z = zip((1, 2, 3), (10, 11, 12))\n",
    "I1 = iter(Z)\n",
    "I2 = iter(Z)  # Two iterators on one zip\n",
    "next(I1), next(I2)"
   ]
  },
  {
   "cell_type": "markdown",
   "metadata": {},
   "source": [
    "## Part4. 函数"
   ]
  },
  {
   "cell_type": "markdown",
   "metadata": {},
   "source": [
    "**TABLE. 函数相关语句和表达式**\n",
    "\n",
    "| 语句    | 例子 |\n",
    "| :-------------:  | :-----------|\n",
    "|Call expressions |myfunc('spam', 'eggs', meat=ham, *rest)|\n",
    "|def |def printer(messge): print('Hello ' + message)|\n",
    "|return| def adder(a, b=1, *c): return a + b + c[0]|\n",
    "|global |x = 'old' def changer(): global x; x = 'new'|\n",
    "|nonlocal (3.X) |def outer(): x = 'old' def changer(): nonlocal x; x = 'new'|\n",
    "|yield |def squares(x): for i in range(x): yield i ** 2|\n",
    "|lambda |funcs = [lambda x: x, lambda x: 2*x]|"
   ]
  },
  {
   "cell_type": "markdown",
   "metadata": {
    "collapsed": true
   },
   "source": [
    "** 编写函数： **\n",
    "- **def是可执行代码**\n",
    "  - 函数不存在，直到Python运行到def后才存在，是实时执行的\n",
    "- **def创建一个对象，并将其赋值给某变量**\n",
    "  - 函数名是函数的引用\n",
    "- **lambda **创建一个对象但将其作为结果返回\n",
    "- **return **将结果对象发送给调用者\n",
    "- **yield **向调用者发回一个结果对象，但记住它离开的位置\n",
    "- **global **声明模块级变量\n",
    "- **nonlocal**声明\n",
    "- **函数通过赋值（对象引用）传递的**\n",
    "- **参数、返回值以及变量并不是声明**\n",
    "- **多态  **支持多种数据类型，只要其支持扩展的对象接口\n",
    "- **本地变量 ** 仅在函数运行时存在\n",
    "  - 函数代码区内的变量是本地变量\n",
    "  - 传入的参数也是本地变量\n",
    "  - for 循环中的被赋值变量也是本地变量\n"
   ]
  },
  {
   "cell_type": "markdown",
   "metadata": {},
   "source": [
    "### 作用域"
   ]
  },
  {
   "cell_type": "markdown",
   "metadata": {},
   "source": [
    "- **Python作用域基础**\n",
    "  - 术语“作用域”（本地、全局、内置）指的就是命名空间\n",
    "  - 变量被绑定命名空间，规定了其作用范围\n",
    "    - 如果变量在函数内赋值，则只能在函数内使用\n",
    "    - 在嵌套函数内，则是nonlocal的\n",
    "    - 在函数外，则是整个文件全局\n",
    "- **LEGB原则 ** \n",
    "  - 按顺序在Local、Enclosing、Global、Built-in内查找变量直到找到，从中也可看出同名变量名覆盖规律(前面的覆盖后面的）"
   ]
  },
  {
   "cell_type": "markdown",
   "metadata": {},
   "source": [
    "- **Global语句**\n",
    "  - 全局变量是位于模块文件顶层的变量名\n",
    "  - 全局变量在函数内**赋值**，必须申明Global\n",
    "  - 全局变量在函数内**引用**，可以不经声明\n",
    "  \n",
    "  **Global原则上尽量少用**"
   ]
  },
  {
   "cell_type": "code",
   "execution_count": 154,
   "metadata": {
    "collapsed": false
   },
   "outputs": [
    {
     "name": "stdout",
     "output_type": "stream",
     "text": [
      "99\n"
     ]
    }
   ],
   "source": [
    "X = 88       # Global X\n",
    "def func():\n",
    "    global X\n",
    "    X = 99   # Global X: outside def\n",
    "func()\n",
    "print(X)     # Prints 99"
   ]
  },
  {
   "cell_type": "code",
   "execution_count": 155,
   "metadata": {
    "collapsed": false
   },
   "outputs": [
    {
     "name": "stdout",
     "output_type": "stream",
     "text": [
      "88\n"
     ]
    }
   ],
   "source": [
    "X = 99 # Global scope name: not used\n",
    "def f1():\n",
    "    X = 88 # Enclosing def local\n",
    "    def f2():\n",
    "        print(X) # Reference made in nested def\n",
    "    f2()\n",
    "f1() # Prints 88: enclosing def local"
   ]
  },
  {
   "cell_type": "code",
   "execution_count": 156,
   "metadata": {
    "collapsed": false
   },
   "outputs": [
    {
     "name": "stdout",
     "output_type": "stream",
     "text": [
      "88\n"
     ]
    }
   ],
   "source": [
    "def f1():\n",
    "    X = 88\n",
    "    def f2():\n",
    "        print(X) # Remembers X in enclosing def scope\n",
    "    return f2 # Return f2 but don't call it\n",
    "action = f1() # Make, return function\n",
    "action() # Call it now: prints 88"
   ]
  },
  {
   "cell_type": "markdown",
   "metadata": {},
   "source": [
    "- **工厂函数（闭合closure)**\n",
    "  能够记住嵌套作用域的变量值，尽管该作用域已不存在"
   ]
  },
  {
   "cell_type": "code",
   "execution_count": 157,
   "metadata": {
    "collapsed": false
   },
   "outputs": [
    {
     "data": {
      "text/plain": [
       "(<function __main__.maker.<locals>.action>, 9)"
      ]
     },
     "execution_count": 157,
     "metadata": {},
     "output_type": "execute_result"
    }
   ],
   "source": [
    "def maker(N):\n",
    "    def action(X):     # Make and return action\n",
    "        return X ** N  # action\n",
    "    return action\n",
    "f = maker(2); f, f(3) # 3^2"
   ]
  },
  {
   "cell_type": "code",
   "execution_count": 158,
   "metadata": {
    "collapsed": false
   },
   "outputs": [
    {
     "data": {
      "text/plain": [
       "(<function __main__.maker.<locals>.action>, 8)"
      ]
     },
     "execution_count": 158,
     "metadata": {},
     "output_type": "execute_result"
    }
   ],
   "source": [
    "g = maker(3); g, g(2) # 2^3 ; g remembers 3, f remembers 2"
   ]
  },
  {
   "cell_type": "markdown",
   "metadata": {},
   "source": [
    "也可以采用**默认参数**记住嵌套作用域的变量值"
   ]
  },
  {
   "cell_type": "code",
   "execution_count": 159,
   "metadata": {
    "collapsed": false
   },
   "outputs": [
    {
     "name": "stdout",
     "output_type": "stream",
     "text": [
      "88\n"
     ]
    }
   ],
   "source": [
    "def f1():\n",
    "    x = 88\n",
    "    def f2(x=x): # Remember enclosing scope X with defaults\n",
    "        print(x)\n",
    "    f2()\n",
    "f1() # Prints 88"
   ]
  },
  {
   "cell_type": "markdown",
   "metadata": {},
   "source": [
    "- **嵌套作用域与lambda**\n",
    "  - lambda函数可以看到嵌套函数内所有的可用变量(因为嵌套作用域查找层)"
   ]
  },
  {
   "cell_type": "code",
   "execution_count": 160,
   "metadata": {
    "collapsed": false
   },
   "outputs": [
    {
     "name": "stdout",
     "output_type": "stream",
     "text": [
      "16\n"
     ]
    }
   ],
   "source": [
    "def func():\n",
    "    x = 4\n",
    "    action = (lambda n: x ** n) # x remembered from enclosing def\n",
    "    return action\n",
    "x = func()\n",
    "print(x(2)) # Prints 16, 4 ** 2"
   ]
  },
  {
   "cell_type": "markdown",
   "metadata": {},
   "source": [
    "- ** 嵌套作用域与带循环变量**"
   ]
  },
  {
   "cell_type": "code",
   "execution_count": 161,
   "metadata": {
    "collapsed": false
   },
   "outputs": [
    {
     "data": {
      "text/plain": [
       "(16, 16, 16, 16)"
      ]
     },
     "execution_count": 161,
     "metadata": {},
     "output_type": "execute_result"
    }
   ],
   "source": [
    "def makeActions():\n",
    "    acts = []\n",
    "    for i in range(5):  # Tries to remember each i\n",
    "        acts.append(lambda x: i ** x)  # But all remember same last i!\n",
    "    return acts\n",
    "acts = makeActions()\n",
    "acts[0](2), acts[1](2), acts[2](2), acts[4](2) # 所有函数都记住了相同的i值"
   ]
  },
  {
   "cell_type": "markdown",
   "metadata": {},
   "source": [
    "**嵌套作用域中的变量在嵌套函数被调用时才查找**，所以上面的例子中，在调用函数是只记住了最后一次生成的i值"
   ]
  },
  {
   "cell_type": "code",
   "execution_count": 162,
   "metadata": {
    "collapsed": false
   },
   "outputs": [
    {
     "data": {
      "text/plain": [
       "(0, 1, 4, 16)"
      ]
     },
     "execution_count": 162,
     "metadata": {},
     "output_type": "execute_result"
    }
   ],
   "source": [
    "def makeActions():\n",
    "    acts = []\n",
    "    for i in range(5): # Use defaults instead\n",
    "        acts.append(lambda x, i=i: i ** x) # Remember current i (使用默认参数解决)\n",
    "    return acts\n",
    "acts = makeActions()\n",
    "acts[0](2), acts[1](2), acts[2](2), acts[4](2) "
   ]
  },
  {
   "cell_type": "code",
   "execution_count": 163,
   "metadata": {
    "collapsed": false
   },
   "outputs": [
    {
     "name": "stdout",
     "output_type": "stream",
     "text": [
      "99\n"
     ]
    }
   ],
   "source": [
    "def f1(): # 任意嵌套\n",
    "    x = 99\n",
    "    def f2():\n",
    "        def f3():\n",
    "            print(x) # Found in f1's local scope!\n",
    "        f3()\n",
    "    f2()\n",
    "f1()"
   ]
  },
  {
   "cell_type": "markdown",
   "metadata": {},
   "source": [
    "- ** nonlocal 语句**\n",
    "  - A函数嵌套在B函数中，则A函数只能引用B函数中变量而不能赋值修改，此时需要nonlocal发挥作用\n",
    "  - nonlocal限制作用域查找**仅在嵌套def内**，并要求名称已经存在"
   ]
  },
  {
   "cell_type": "code",
   "execution_count": 164,
   "metadata": {
    "collapsed": false
   },
   "outputs": [
    {
     "name": "stdout",
     "output_type": "stream",
     "text": [
      "spam 0\n",
      "ham 1\n",
      "eggs 2\n",
      "toast 42\n",
      "bacon 43\n",
      "ham 3\n"
     ]
    },
    {
     "data": {
      "text/plain": [
       "(None, None, None)"
      ]
     },
     "execution_count": 164,
     "metadata": {},
     "output_type": "execute_result"
    }
   ],
   "source": [
    "def tester(start):\n",
    "    state = start       # Each call gets its own state\n",
    "    def nested(label):\n",
    "        nonlocal state  # Remembers state in enclosing scope\n",
    "        print(label, state)\n",
    "        state += 1      # Allowed to change it if nonlocal\n",
    "    return nested\n",
    "F = tester(0)\n",
    "F('spam'), F('ham'), F('eggs')\n",
    "G = tester(42)\n",
    "G('toast'), G('bacon'), F('ham') # G与Ｆ独立，每次调用都产生新的"
   ]
  },
  {
   "cell_type": "markdown",
   "metadata": {},
   "source": [
    "  **全局共享状态**"
   ]
  },
  {
   "cell_type": "code",
   "execution_count": 165,
   "metadata": {
    "collapsed": false
   },
   "outputs": [
    {
     "name": "stdout",
     "output_type": "stream",
     "text": [
      "spam 0\n",
      "eggs 1\n",
      "toast 42\n",
      "bacon 43\n",
      "ham 44\n"
     ]
    },
    {
     "data": {
      "text/plain": [
       "(None, None, None)"
      ]
     },
     "execution_count": 165,
     "metadata": {},
     "output_type": "execute_result"
    }
   ],
   "source": [
    "def tester(start):\n",
    "    global state # Move it out to the module to change it\n",
    "    state = start # global allows changes in module scope\n",
    "    def nested(label):\n",
    "        global state\n",
    "        print(label, state)\n",
    "        state += 1\n",
    "    return nested\n",
    "F = tester(0)\n",
    "F('spam'), F('eggs')\n",
    "G = tester(42)\n",
    "G('toast'), G('bacon'), F('ham') # G与Ｆ共享一个全局状态"
   ]
  },
  {
   "cell_type": "markdown",
   "metadata": {},
   "source": [
    "### 参数  (argument/paramter)\n",
    "**传递参数：**\n",
    "1. **参数传递是通过自动将对象赋值给本地变量来实现的** 实际是指针传递，被传递对象从不拷贝\n",
    "2. **内部本地变量一般对外部传入参数不产生影响，但注意可变参数，会被修改**\n",
    "  - 不可变参数通过“值”传递（采用对象引用，因为不可变所以不用担心被修改）\n",
    "  - 可变参数通过“指针”传递，可在函数内部在原处（内存处）修改\n",
    "  - 将对象赋给变量名，对于可变不可变参数都是一样的\n",
    " "
   ]
  },
  {
   "cell_type": "markdown",
   "metadata": {},
   "source": [
    "- **避免可变参数修改**"
   ]
  },
  {
   "cell_type": "code",
   "execution_count": 166,
   "metadata": {
    "collapsed": false
   },
   "outputs": [
    {
     "data": {
      "text/plain": [
       "(1, ['spam', 2])"
      ]
     },
     "execution_count": 166,
     "metadata": {},
     "output_type": "execute_result"
    }
   ],
   "source": [
    "def changer(a, b): # Arguments assigned references to objects\n",
    "    a = 2          # Changes local name's value only\n",
    "    b[0] = 'spam'  # Changes shared object in place\n",
    "X = 1\n",
    "L = [1, 2] # Caller:\n",
    "changer(X, L) # Pass immutable and mutable objects\n",
    "X, L          # X is unchanged, L is different!"
   ]
  },
  {
   "cell_type": "code",
   "execution_count": 167,
   "metadata": {
    "collapsed": false
   },
   "outputs": [
    {
     "data": {
      "text/plain": [
       "(1, [1, 2])"
      ]
     },
     "execution_count": 167,
     "metadata": {},
     "output_type": "execute_result"
    }
   ],
   "source": [
    "X = 1\n",
    "L = [1, 2]\n",
    "changer(X, L[:]); X, L   # 创建可变对象的拷贝"
   ]
  },
  {
   "cell_type": "code",
   "execution_count": 168,
   "metadata": {
    "collapsed": false
   },
   "outputs": [
    {
     "data": {
      "text/plain": [
       "(1, [1, 2])"
      ]
     },
     "execution_count": 168,
     "metadata": {},
     "output_type": "execute_result"
    }
   ],
   "source": [
    "def changer(a, b):\n",
    "    b = b[:]      # Copy input list so we don't impact caller\n",
    "    a = 2\n",
    "    b[0] = 'spam' # Changes our list copy only\n",
    "X = 1\n",
    "L = [1, 2]\n",
    "changer(X, L[:]); X, L "
   ]
  },
  {
   "cell_type": "markdown",
   "metadata": {},
   "source": [
    "- **参数返回**"
   ]
  },
  {
   "cell_type": "code",
   "execution_count": 169,
   "metadata": {
    "collapsed": false
   },
   "outputs": [
    {
     "data": {
      "text/plain": [
       "(2, [3, 4])"
      ]
     },
     "execution_count": 169,
     "metadata": {},
     "output_type": "execute_result"
    }
   ],
   "source": [
    "def multiple(x, y):\n",
    "    x = 2 # Changes local names only\n",
    "    y = [3, 4]\n",
    "    return x, y # 看似返回多值，实际组成了一个tuple\n",
    "X = 1\n",
    "L = [1, 2]\n",
    "X, L = multiple(X, L) # Assign results to caller's names\n",
    "X,L  "
   ]
  },
  {
   "cell_type": "markdown",
   "metadata": {},
   "source": [
    "- **参数匹配模型**\n",
    "  1. **位置：** 从左至右匹配\n",
    "  2. **关键字参数：** 通过参数名进行匹配\n",
    "  3. **默认参数：** 为没有传入值的参数定义默认值\n",
    "  4. **可变参数：** 定义的函数中**带\" * \"的参数**可以收集任意多基于位置或关键字的参数\n",
    "  5. **可变参数解包：** 函数调用者使用**\" * \"**来解包参数集合\n",
    "  6. **keyword-only参数：**参数必须按照名称传递"
   ]
  },
  {
   "cell_type": "markdown",
   "metadata": {},
   "source": [
    "**TABLE. 函数参数匹配表**\n",
    "\n",
    "| 语法  | 位置 | 解释 |\n",
    "| :-------------  | :-----------: | :-----------|\n",
    "|func(value) | Caller调用者 |Normal argument: matched by position|\n",
    "|func(name=value) | Caller调用者 |Keyword argument: matched by name|\n",
    "|func(*iterable) |Caller调用者 |Pass all objects in **_iterable_** as individual positional arguments|\n",
    "|func(**dict) |Caller调用者 |Pass all key/value pairs in **_dict_** as individual keyword arguments|\n",
    "|def func(name) |Function函数 |Normal argument: matches any passed value by position or name|\n",
    "|def func(name=value) |Function函数 |Default argument value, if not passed in the call|\n",
    "|def func(*name) |Function函数 |Matches and collects remaining positional arguments in a tuple|\n",
    "|def func(**name) |Function函数 |Matches and collects remaining keyword arguments in a dictionary|\n",
    "|def func(*other, name) |Function函数 |Arguments that must be passed by keyword only in calls (3.X)|\n",
    "|def func(*, name=value)| Function函数| Arguments that must be passed by keyword only in calls (3.X)|"
   ]
  },
  {
   "cell_type": "markdown",
   "metadata": {},
   "source": [
    "**1. 关键字参数**"
   ]
  },
  {
   "cell_type": "code",
   "execution_count": 170,
   "metadata": {
    "collapsed": false
   },
   "outputs": [
    {
     "name": "stdout",
     "output_type": "stream",
     "text": [
      "1 2 3\n",
      "Bob is a boy\n",
      "Show is a word\n"
     ]
    }
   ],
   "source": [
    "def f(a, b, c): print(a, b, c)\n",
    "f(1, 2, 3) # 按顺序自左向右，位置匹配（位置参数）\n",
    "f(c='a boy', b = 'is', a = 'Bob')  # 通过变量名匹配（与所放位置无关），关键字参数\n",
    "f('Show', c = 'a word', b = 'is')  # a gets 1 by position, b and c passed by name"
   ]
  },
  {
   "cell_type": "markdown",
   "metadata": {},
   "source": [
    "**2. 默认参数**"
   ]
  },
  {
   "cell_type": "code",
   "execution_count": 171,
   "metadata": {
    "collapsed": false
   },
   "outputs": [
    {
     "name": "stdout",
     "output_type": "stream",
     "text": [
      "1 2 3\n",
      "1 2 3\n",
      "1 4 3\n",
      "1 4 5\n"
     ]
    },
    {
     "data": {
      "text/plain": [
       "(None, None, None, None)"
      ]
     },
     "execution_count": 171,
     "metadata": {},
     "output_type": "execute_result"
    }
   ],
   "source": [
    "def f(a, b=2, c=3): print(a, b, c) # a required, b and c optional\n",
    "f(1), f(a=1), f(1, 4), f(1, 4, 5)"
   ]
  },
  {
   "cell_type": "markdown",
   "metadata": {
    "collapsed": true
   },
   "source": [
    "**关键字参数与默认参数混合**"
   ]
  },
  {
   "cell_type": "code",
   "execution_count": 172,
   "metadata": {
    "collapsed": false
   },
   "outputs": [
    {
     "name": "stdout",
     "output_type": "stream",
     "text": [
      "(1, 2, 0, 0)\n",
      "(1, 0, 0, 1)\n",
      "(1, 0, 0, 0)\n",
      "(3, 2, 1, 0)\n",
      "(1, 2, 3, 4)\n"
     ]
    }
   ],
   "source": [
    "def func(spam, eggs, toast=0, ham=0): # First 2 required\n",
    "    print((spam, eggs, toast, ham))\n",
    "func(1, 2)              # Output: (1, 2, 0, 0)\n",
    "func(1, ham=1, eggs=0)  # Output: (1, 0, 0, 1)\n",
    "func(spam=1, eggs=0)    # Output: (1, 0, 0, 0)\n",
    "func(toast=1, eggs=2, spam=3) # Output: (3, 2, 1, 0)\n",
    "func(1, 2, 3, 4)        # Output: (1, 2, 3, 4)"
   ]
  },
  {
   "cell_type": "markdown",
   "metadata": {},
   "source": [
    " **3. 任意参数实例（可变参数）**\n",
    " \n",
    " **3.1 收集参数（定义函数时）**\n",
    "   - \" * \"收集不匹配的位置参数到元组\n",
    "   - \" ** \"只对关键字参数有效，将关键字参数传递给新的字典"
   ]
  },
  {
   "cell_type": "code",
   "execution_count": 173,
   "metadata": {
    "collapsed": false
   },
   "outputs": [
    {
     "name": "stdout",
     "output_type": "stream",
     "text": [
      "(1,)\n",
      "(1, 2, 3, 4)\n"
     ]
    },
    {
     "data": {
      "text/plain": [
       "(None, None)"
      ]
     },
     "execution_count": 173,
     "metadata": {},
     "output_type": "execute_result"
    }
   ],
   "source": [
    "def f(*args): print(args) # 将所有位置相关参数收集到tuple中\n",
    "f(1), f(1, 2, 3, 4), "
   ]
  },
  {
   "cell_type": "code",
   "execution_count": 174,
   "metadata": {
    "collapsed": false
   },
   "outputs": [
    {
     "name": "stdout",
     "output_type": "stream",
     "text": [
      "{'a': 1, 'b': 2}\n"
     ]
    }
   ],
   "source": [
    "def f(**args): print(args) # 将所有关键字参数收集到dict中\n",
    "f(a=1, b=2)"
   ]
  },
  {
   "cell_type": "code",
   "execution_count": 175,
   "metadata": {
    "collapsed": false
   },
   "outputs": [
    {
     "name": "stdout",
     "output_type": "stream",
     "text": [
      "1 (2, 3) {'y': 2, 'x': 1}\n"
     ]
    }
   ],
   "source": [
    "def f(a, *pargs, **kargs): print(a, pargs, kargs)\n",
    "f(1, 2, 3, x=1, y=2)"
   ]
  },
  {
   "cell_type": "markdown",
   "metadata": {},
   "source": [
    "**3.2 参数解包（调用函数时）**\n",
    "  - \" * \"解包元组\n",
    "  - \" ** \"以“键/值”对的形式解包dict，使其成为独立的关键字参数"
   ]
  },
  {
   "cell_type": "code",
   "execution_count": 176,
   "metadata": {
    "collapsed": false
   },
   "outputs": [
    {
     "name": "stdout",
     "output_type": "stream",
     "text": [
      "1 2 3 4\n"
     ]
    }
   ],
   "source": [
    "def func(a, b, c, d): print(a, b, c, d)\n",
    "args = (1, 2)\n",
    "args += (3, 4)\n",
    "func(*args) # Same as func(1, 2, 3, 4)"
   ]
  },
  {
   "cell_type": "code",
   "execution_count": 177,
   "metadata": {
    "collapsed": false
   },
   "outputs": [
    {
     "name": "stdout",
     "output_type": "stream",
     "text": [
      "1 2 3 4\n"
     ]
    }
   ],
   "source": [
    "args = {'a': 1, 'b': 2, 'c': 3}\n",
    "args['d'] = 4\n",
    "func(**args) # Same as func(a=1, b=2, c=3, d=4)"
   ]
  },
  {
   "cell_type": "code",
   "execution_count": 178,
   "metadata": {
    "collapsed": false
   },
   "outputs": [
    {
     "name": "stdout",
     "output_type": "stream",
     "text": [
      "1 2 3 4\n",
      "1 2 3 4\n",
      "1 2 3 4\n",
      "1 2 3 4\n",
      "1 2 3 4\n"
     ]
    }
   ],
   "source": [
    "func(*(1, 2), **{'d': 4, 'c': 3}) # Same as func(1, 2, d=4, c=3)\n",
    "func(1, *(2, 3), **{'d': 4})      # Same as func(1, 2, 3, d=4)\n",
    "func(1, c=3, *(2,), **{'d': 4})   # Same as func(1, 2, c=3, d=4)\n",
    "func(1, *(2, 3), d=4)             # Same as func(1, 2, 3, d=4)\n",
    "func(1, *(2,), c=3, **{'d':4})    # Same as func(1, 2, c=3, d=4)"
   ]
  },
  {
   "cell_type": "code",
   "execution_count": 179,
   "metadata": {
    "collapsed": false
   },
   "outputs": [
    {
     "name": "stdout",
     "output_type": "stream",
     "text": [
      "calling: func\n",
      "10\n"
     ]
    }
   ],
   "source": [
    "def tracer(func, *pargs, **kargs): # Accept arbitrary arguments\n",
    "    print('calling:', func.__name__)\n",
    "    return func(*pargs, **kargs) # Pass along arbitrary arguments\n",
    "def func(a, b, c, d):\n",
    "    return a + b + c + d\n",
    "print(tracer(func, 1, 2, c=3, d=4))"
   ]
  },
  {
   "cell_type": "markdown",
   "metadata": {
    "collapsed": true
   },
   "source": [
    "**4. Keyword-Only参数**\n",
    "  - 必须只按照关键字传递并且不会由一个位置参数来填充参数\n",
    "  - 可以使用**\" * \"**来表示**其后所有参数**均作为关键字参数传递\n",
    "  - Keyword-Only参数可以使用**默认值**"
   ]
  },
  {
   "cell_type": "code",
   "execution_count": 180,
   "metadata": {
    "collapsed": false
   },
   "outputs": [
    {
     "name": "stdout",
     "output_type": "stream",
     "text": [
      "1 (2,) 3\n",
      "1 () 3\n"
     ]
    },
    {
     "data": {
      "text/plain": [
       "(None, None)"
      ]
     },
     "execution_count": 180,
     "metadata": {},
     "output_type": "execute_result"
    }
   ],
   "source": [
    "def kwonly(a, *b, c):\n",
    "    print(a, b, c)\n",
    "kwonly(1, 2, c=3), kwonly(a=1, c=3)  # can not use kwonly(1, 2, 3)"
   ]
  },
  {
   "cell_type": "code",
   "execution_count": 181,
   "metadata": {
    "collapsed": false
   },
   "outputs": [
    {
     "name": "stdout",
     "output_type": "stream",
     "text": [
      "1 2 3\n",
      "1 2 3\n"
     ]
    },
    {
     "data": {
      "text/plain": [
       "(None, None)"
      ]
     },
     "execution_count": 181,
     "metadata": {},
     "output_type": "execute_result"
    }
   ],
   "source": [
    "def kwonly(a, *, b, c):  # \" * \"表示其后所有参数均作为关键字参数\n",
    "    print(a, b, c)\n",
    "kwonly(1, c=3, b=2), kwonly(c=3, b=2, a=1)"
   ]
  },
  {
   "cell_type": "code",
   "execution_count": 182,
   "metadata": {
    "collapsed": false
   },
   "outputs": [
    {
     "name": "stdout",
     "output_type": "stream",
     "text": [
      "1 spam ham\n",
      "1 2 3\n"
     ]
    },
    {
     "data": {
      "text/plain": [
       "(None, None)"
      ]
     },
     "execution_count": 182,
     "metadata": {},
     "output_type": "execute_result"
    }
   ],
   "source": [
    "def kwonly(a, *, b='spam', c='ham'):  #　使用默认值\n",
    "    print(a, b, c)\n",
    "kwonly(1), kwonly(c=3, b=2, a=1)"
   ]
  },
  {
   "cell_type": "markdown",
   "metadata": {},
   "source": [
    "**5. 参数排序规则**\n",
    "\n",
    "**位置参数（按位置匹配），默认参数，可变参数（tuple），Keyword-Only参数，可变参数（dict）**\n",
    "```Python\n",
    "def functionName(a, b, c=1, *args, d=2, **Args)\n",
    "```\n",
    "- Keyword-Only参数必须编写在`*args`与`**Args`之间\n",
    "  ```Python\n",
    "  def f(a, *b, **d, c=6)  # Wrong，Keyword-only before **!\n",
    "  def f(a, *b, c=6, **d)  # Right\n",
    "  ``` \n",
    "- 出现在*args之前的不是Keyword-Only参数，可能是默认参数\n",
    "- 函数调用时，Keyword-Only参数必须在**Args之前，但可以在*args之前或之后，也可以在**Args中\n",
    "   ```Python\n",
    "   f(1, *(2, 3), **dict(x=4, y=5), c=7) # Wrong，Keywords before **args!\n",
    "   ```"
   ]
  },
  {
   "cell_type": "code",
   "execution_count": 183,
   "metadata": {
    "collapsed": false
   },
   "outputs": [
    {
     "name": "stdout",
     "output_type": "stream",
     "text": [
      "1 (2, 3) 6 {'y': 5, 'x': 4}\n",
      "1 (2, 3) 7 {'y': 5, 'x': 4}\n",
      "1 (2, 3) 7 {'y': 5, 'x': 4}\n",
      "1 (2, 3) 7 {'y': 5, 'x': 4}\n"
     ]
    }
   ],
   "source": [
    "def f(a, *b, c=6, **d): print(a, b, c, d) # KW-only between * and **\n",
    "f(1, *(2, 3), **dict(x=4, y=5))       # Unpack args at call\n",
    "f(1, *(2, 3), c=7, **dict(x=4, y=5))  # Override Keyword-Only's default\n",
    "f(1, c=7, *(2, 3), **dict(x=4, y=5))  # eyword-Only can be after or before *\n",
    "f(1, *(2, 3), **dict(x=4, y=5, c=7))  # Keyword-only in **"
   ]
  },
  {
   "cell_type": "markdown",
   "metadata": {},
   "source": [
    "### 函数的高级话题"
   ]
  },
  {
   "cell_type": "markdown",
   "metadata": {},
   "source": [
    "- **递归函数**"
   ]
  },
  {
   "cell_type": "code",
   "execution_count": 184,
   "metadata": {
    "collapsed": false
   },
   "outputs": [
    {
     "data": {
      "text/plain": [
       "15"
      ]
     },
     "execution_count": 184,
     "metadata": {},
     "output_type": "execute_result"
    }
   ],
   "source": [
    "def mysum(L):\n",
    "    if not L:\n",
    "        return 0\n",
    "    else:\n",
    "        return L[0] + mysum(L[1:]) # call itself\n",
    "mysum([1, 2, 3, 4, 5])"
   ]
  },
  {
   "cell_type": "markdown",
   "metadata": {},
   "source": [
    "- **函数对象：属性和注解**\n",
    "\n",
    "**1. 间接函数调用**"
   ]
  },
  {
   "cell_type": "code",
   "execution_count": 185,
   "metadata": {
    "collapsed": false
   },
   "outputs": [
    {
     "name": "stdout",
     "output_type": "stream",
     "text": [
      "Argument call!\n",
      "--------------\n",
      "Spam!\n",
      "Ham!\n",
      "--------------\n",
      "Spam:Ham!\n",
      "Spam:Eggs!\n"
     ]
    }
   ],
   "source": [
    "def echo(message): # Name echo assigned to function object\n",
    "    print(message)\n",
    "def indirect(func, arg): # 把函数作为另一个函数的参数\n",
    "    func(arg)     # Call the passed-in object by adding ()\n",
    "def make(label):  # 创建函数并返回\n",
    "    def echo2(message):\n",
    "        print(label + ':' + message)\n",
    "    return echo2\n",
    "indirect(echo, 'Argument call!') # 把函数作为参数传递并调用\n",
    "print('-'*14) # 结果显示分隔\n",
    "schedule = [ (echo, 'Spam!'), (echo, 'Ham!') ]\n",
    "for (func, arg) in schedule:  # 函数对象嵌入数据结构\n",
    "    func(arg) # Call functions embedded in containers\n",
    "print('-'*14) # 结果显示分隔\n",
    "F = make('Spam') # Label in enclosing scope is retained\n",
    "F('Ham!')        # Call the function that make returned\n",
    "F('Eggs!')"
   ]
  },
  {
   "cell_type": "markdown",
   "metadata": {},
   "source": [
    "**2. 函数内省**"
   ]
  },
  {
   "cell_type": "code",
   "execution_count": 186,
   "metadata": {
    "collapsed": false
   },
   "outputs": [
    {
     "data": {
      "text/plain": [
       "'func'"
      ]
     },
     "execution_count": 186,
     "metadata": {},
     "output_type": "execute_result"
    }
   ],
   "source": [
    "def func(a):\n",
    "    b = 'spam'\n",
    "    return b * a\n",
    "func.__name__"
   ]
  },
  {
   "cell_type": "code",
   "execution_count": 187,
   "metadata": {
    "collapsed": false
   },
   "outputs": [
    {
     "data": {
      "text/plain": [
       "['__class__',\n",
       " '__delattr__',\n",
       " '__dir__',\n",
       " '__doc__',\n",
       " '__eq__',\n",
       " '__format__',\n",
       " '__ge__',\n",
       " '__getattribute__',\n",
       " '__gt__',\n",
       " '__hash__',\n",
       " '__init__',\n",
       " '__le__',\n",
       " '__lt__',\n",
       " '__ne__',\n",
       " '__new__',\n",
       " '__reduce__',\n",
       " '__reduce_ex__',\n",
       " '__repr__',\n",
       " '__setattr__',\n",
       " '__sizeof__',\n",
       " '__str__',\n",
       " '__subclasshook__',\n",
       " 'co_argcount',\n",
       " 'co_cellvars',\n",
       " 'co_code',\n",
       " 'co_consts',\n",
       " 'co_filename',\n",
       " 'co_firstlineno',\n",
       " 'co_flags',\n",
       " 'co_freevars',\n",
       " 'co_kwonlyargcount',\n",
       " 'co_lnotab',\n",
       " 'co_name',\n",
       " 'co_names',\n",
       " 'co_nlocals',\n",
       " 'co_stacksize',\n",
       " 'co_varnames']"
      ]
     },
     "execution_count": 187,
     "metadata": {},
     "output_type": "execute_result"
    }
   ],
   "source": [
    "dir(func.__code__)"
   ]
  },
  {
   "cell_type": "code",
   "execution_count": 188,
   "metadata": {
    "collapsed": false
   },
   "outputs": [
    {
     "data": {
      "text/plain": [
       "('a', 'b')"
      ]
     },
     "execution_count": 188,
     "metadata": {},
     "output_type": "execute_result"
    }
   ],
   "source": [
    "func.__code__.co_varnames"
   ]
  },
  {
   "cell_type": "markdown",
   "metadata": {},
   "source": [
    "**3. 函数属性**\n",
    "向函数附加任意的用户定义的属性"
   ]
  },
  {
   "cell_type": "code",
   "execution_count": 189,
   "metadata": {
    "collapsed": false
   },
   "outputs": [
    {
     "data": {
      "text/plain": [
       "<function __main__.func>"
      ]
     },
     "execution_count": 189,
     "metadata": {},
     "output_type": "execute_result"
    }
   ],
   "source": [
    "func"
   ]
  },
  {
   "cell_type": "code",
   "execution_count": 190,
   "metadata": {
    "collapsed": false
   },
   "outputs": [
    {
     "data": {
      "text/plain": [
       "1"
      ]
     },
     "execution_count": 190,
     "metadata": {},
     "output_type": "execute_result"
    }
   ],
   "source": [
    "func.count = 0\n",
    "func.count += 1\n",
    "func.count"
   ]
  },
  {
   "cell_type": "markdown",
   "metadata": {},
   "source": [
    "- **匿名函数：lambda **\n",
    "  - 返回一个函数，而不是将函数赋给一个变量名\n",
    "  - lambda又称匿名，也就是没有函数名\n",
    "  - lambda是表达式不是语句，也不是代码块\n",
    "  \n",
    "```Python\n",
    "lambda argument1, argument2,... argumentN : expression using arguments\n",
    "```"
   ]
  },
  {
   "cell_type": "markdown",
   "metadata": {},
   "source": [
    "**1. lambda表达式使用**"
   ]
  },
  {
   "cell_type": "code",
   "execution_count": 191,
   "metadata": {
    "collapsed": false
   },
   "outputs": [
    {
     "data": {
      "text/plain": [
       "9"
      ]
     },
     "execution_count": 191,
     "metadata": {},
     "output_type": "execute_result"
    }
   ],
   "source": [
    "f = lambda x, y, z: x + y + z\n",
    "f(2, 3, 4)"
   ]
  },
  {
   "cell_type": "code",
   "execution_count": 192,
   "metadata": {
    "collapsed": false
   },
   "outputs": [
    {
     "data": {
      "text/plain": [
       "'weefiefoe'"
      ]
     },
     "execution_count": 192,
     "metadata": {},
     "output_type": "execute_result"
    }
   ],
   "source": [
    "x = (lambda a=\"fee\", b=\"fie\", c=\"foe\": a + b + c) # 使用默认参数\n",
    "x(\"wee\")"
   ]
  },
  {
   "cell_type": "markdown",
   "metadata": {},
   "source": [
    "**2. 嵌套lambda和作用域**"
   ]
  },
  {
   "cell_type": "code",
   "execution_count": 193,
   "metadata": {
    "collapsed": false
   },
   "outputs": [
    {
     "data": {
      "text/plain": [
       "<function __main__.action.<locals>.<lambda>>"
      ]
     },
     "execution_count": 193,
     "metadata": {},
     "output_type": "execute_result"
    }
   ],
   "source": [
    "def action(x):\n",
    "    return (lambda y: x + y)\n",
    "act = action(99)\n",
    "act"
   ]
  },
  {
   "cell_type": "code",
   "execution_count": 194,
   "metadata": {
    "collapsed": false
   },
   "outputs": [
    {
     "data": {
      "text/plain": [
       "101"
      ]
     },
     "execution_count": 194,
     "metadata": {},
     "output_type": "execute_result"
    }
   ],
   "source": [
    "act(2)"
   ]
  },
  {
   "cell_type": "markdown",
   "metadata": {},
   "source": [
    "lambda出现在def中，嵌套lambda可以获取上层函数作用域中的变量"
   ]
  },
  {
   "cell_type": "code",
   "execution_count": 195,
   "metadata": {
    "collapsed": false
   },
   "outputs": [
    {
     "data": {
      "text/plain": [
       "102"
      ]
     },
     "execution_count": 195,
     "metadata": {},
     "output_type": "execute_result"
    }
   ],
   "source": [
    "action = (lambda x: (lambda y: x + y))\n",
    "act = action(99)\n",
    "act(3)"
   ]
  },
  {
   "cell_type": "code",
   "execution_count": 196,
   "metadata": {
    "collapsed": false
   },
   "outputs": [
    {
     "data": {
      "text/plain": [
       "103"
      ]
     },
     "execution_count": 196,
     "metadata": {},
     "output_type": "execute_result"
    }
   ],
   "source": [
    "((lambda x: (lambda y: x + y))(99))(4)"
   ]
  },
  {
   "cell_type": "markdown",
   "metadata": {},
   "source": [
    "### 迭代和解析 Part2"
   ]
  },
  {
   "cell_type": "markdown",
   "metadata": {},
   "source": [
    "- **列表解析**"
   ]
  },
  {
   "cell_type": "code",
   "execution_count": 197,
   "metadata": {
    "collapsed": false
   },
   "outputs": [
    {
     "data": {
      "text/plain": [
       "[0, 1, 4, 9, 16, 25, 36, 49, 64, 81]"
      ]
     },
     "execution_count": 197,
     "metadata": {},
     "output_type": "execute_result"
    }
   ],
   "source": [
    "[x ** 2 for x in range(10)] # 列表解析（用方括号封装）"
   ]
  },
  {
   "cell_type": "code",
   "execution_count": 198,
   "metadata": {
    "collapsed": false
   },
   "outputs": [
    {
     "data": {
      "text/plain": [
       "[0, 1, 4, 9, 16, 25, 36, 49, 64, 81]"
      ]
     },
     "execution_count": 198,
     "metadata": {},
     "output_type": "execute_result"
    }
   ],
   "source": [
    "list(map((lambda x: x ** 2), range(10))) # 使用map函数实现列表解析功能"
   ]
  },
  {
   "cell_type": "code",
   "execution_count": 199,
   "metadata": {
    "collapsed": false
   },
   "outputs": [
    {
     "data": {
      "text/plain": [
       "[0, 2, 4]"
      ]
     },
     "execution_count": 199,
     "metadata": {},
     "output_type": "execute_result"
    }
   ],
   "source": [
    "[x for x in range(5) if x % 2 == 0] # 增加测试"
   ]
  },
  {
   "cell_type": "code",
   "execution_count": 200,
   "metadata": {
    "collapsed": false
   },
   "outputs": [
    {
     "data": {
      "text/plain": [
       "[0, 2, 4]"
      ]
     },
     "execution_count": 200,
     "metadata": {},
     "output_type": "execute_result"
    }
   ],
   "source": [
    "list(filter((lambda x: x % 2 == 0), range(5))) # 使用filter函数实现测试功能"
   ]
  },
  {
   "cell_type": "code",
   "execution_count": 201,
   "metadata": {
    "collapsed": false
   },
   "outputs": [
    {
     "data": {
      "text/plain": [
       "[0, 4, 16, 36, 64]"
      ]
     },
     "execution_count": 201,
     "metadata": {},
     "output_type": "execute_result"
    }
   ],
   "source": [
    "list( map((lambda x: x**2), filter((lambda x: x % 2 == 0), range(10))) ) # map + filter 实现 列表解析+测试 功能"
   ]
  },
  {
   "cell_type": "markdown",
   "metadata": {},
   "source": [
    "**通用列表解析形式：**\n",
    "```Python\n",
    "[ expression for target1 in iterable1 if condition1\n",
    "             for target2 in iterable2 if condition2 ...\n",
    "             for targetN in iterableN if conditionN ]\n",
    "```"
   ]
  },
  {
   "cell_type": "code",
   "execution_count": 202,
   "metadata": {
    "collapsed": false
   },
   "outputs": [
    {
     "data": {
      "text/plain": [
       "[(0, 1), (0, 3), (2, 1), (2, 3), (4, 1), (4, 3)]"
      ]
     },
     "execution_count": 202,
     "metadata": {},
     "output_type": "execute_result"
    }
   ],
   "source": [
    "[(x, y) for x in range(5) if x % 2 == 0 for y in range(5) if y % 2 == 1]"
   ]
  },
  {
   "cell_type": "markdown",
   "metadata": {},
   "source": [
    "- **列表解析和矩阵**"
   ]
  },
  {
   "cell_type": "code",
   "execution_count": 203,
   "metadata": {
    "collapsed": false
   },
   "outputs": [
    {
     "data": {
      "text/plain": [
       "([4, 5, 6], 6)"
      ]
     },
     "execution_count": 203,
     "metadata": {},
     "output_type": "execute_result"
    }
   ],
   "source": [
    "M = [[1, 2, 3],\n",
    "     [4, 5, 6],\n",
    "     [7, 8, 9]]\n",
    "N = [[2, 2, 2],\n",
    "     [3, 3, 3],\n",
    "     [4, 4, 4]]\n",
    "( M[1],    # Row 2\n",
    "M[1][2] )  # Row 2, item 3"
   ]
  },
  {
   "cell_type": "code",
   "execution_count": 204,
   "metadata": {
    "collapsed": false
   },
   "outputs": [
    {
     "data": {
      "text/plain": [
       "([2, 5, 8], [1, 5, 9])"
      ]
     },
     "execution_count": 204,
     "metadata": {},
     "output_type": "execute_result"
    }
   ],
   "source": [
    "([row[1] for row in M] ,           # Column 2\n",
    "[M[i][i] for i in range(len(M))] ) # Diagonals"
   ]
  },
  {
   "cell_type": "code",
   "execution_count": 205,
   "metadata": {
    "collapsed": false
   },
   "outputs": [
    {
     "data": {
      "text/plain": [
       "[2, 4, 6, 12, 15, 18, 28, 32, 36]"
      ]
     },
     "execution_count": 205,
     "metadata": {},
     "output_type": "execute_result"
    }
   ],
   "source": [
    "[M[row][col] * N[row][col] for row in range(3) for col in range(3)] "
   ]
  },
  {
   "cell_type": "code",
   "execution_count": 206,
   "metadata": {
    "collapsed": false
   },
   "outputs": [
    {
     "data": {
      "text/plain": [
       "[[2, 4, 6], [12, 15, 18], [28, 32, 36]]"
      ]
     },
     "execution_count": 206,
     "metadata": {},
     "output_type": "execute_result"
    }
   ],
   "source": [
    "[ [M[row][col] * N[row][col] for col in range(3)]  for row in range(3)] # row迭代是外层循环"
   ]
  },
  {
   "cell_type": "markdown",
   "metadata": {},
   "source": [
    "- **生成器函数与表达式**\n",
    "  - 生成器函数使用yield\n",
    "  - 生成器表达式与列表解析书写形式相近，用()"
   ]
  },
  {
   "cell_type": "code",
   "execution_count": 207,
   "metadata": {
    "collapsed": false
   },
   "outputs": [
    {
     "data": {
      "text/plain": [
       "<generator object <genexpr> at 0x00000000047FDEB8>"
      ]
     },
     "execution_count": 207,
     "metadata": {},
     "output_type": "execute_result"
    }
   ],
   "source": [
    "(x ** 2 for x in range(4)) # Generator expression: make an iterable "
   ]
  },
  {
   "cell_type": "markdown",
   "metadata": {},
   "source": [
    "<http://www.liaoxuefeng.com/wiki/0014316089557264a6b348958f449949df42a6d3a2e542c000/00143178254193589df9c612d2449618ea460e7a672a366000>\n",
    "\n",
    "可以直接作用于for循环的数据类型有以下几种：\n",
    "\n",
    "一类是集合数据类型，如list、tuple、dict、set、str等；\n",
    "\n",
    "一类是generator，包括生成器表达式和带yield的生成器函数。\n",
    "\n",
    "这些可以直接作用于for循环的对象统称为**可迭代对象：Iterable**。\n",
    "\n",
    "可以使用isinstance()判断一个对象是否是Iterable对象,可以被next()函数调用并不断返回下一个值的对象称为**迭代器：Iterator**。\n",
    "\n",
    "**生成器都是Iterator对象，但list、dict、str虽然是Iterable，却不是Iterator。**\n",
    "\n",
    "把list、dict、str等Iterable变成Iterator可以使用iter()函数："
   ]
  },
  {
   "cell_type": "markdown",
   "metadata": {},
   "source": [
    "- **生成器是单迭代对象**\n",
    "\n",
    "**1. 生成器函数或表达式自身就都是迭代器**"
   ]
  },
  {
   "cell_type": "code",
   "execution_count": 208,
   "metadata": {
    "collapsed": false
   },
   "outputs": [
    {
     "data": {
      "text/plain": [
       "True"
      ]
     },
     "execution_count": 208,
     "metadata": {},
     "output_type": "execute_result"
    }
   ],
   "source": [
    "G = (c * 4 for c in 'SPAM')\n",
    "iter(G) is G   # My iterator is myself: G has __next__"
   ]
  },
  {
   "cell_type": "markdown",
   "metadata": {},
   "source": [
    "**2. 多迭代器只会指向相同位置**"
   ]
  },
  {
   "cell_type": "code",
   "execution_count": 209,
   "metadata": {
    "collapsed": false
   },
   "outputs": [
    {
     "data": {
      "text/plain": [
       "('SSSS', 'PPPP')"
      ]
     },
     "execution_count": 209,
     "metadata": {},
     "output_type": "execute_result"
    }
   ],
   "source": [
    "G = (c * 4 for c in 'SPAM') # Make a new generator\n",
    "I1 = iter(G) # Iterate manually\n",
    "next(I1), next(I1)"
   ]
  },
  {
   "cell_type": "code",
   "execution_count": 210,
   "metadata": {
    "collapsed": false
   },
   "outputs": [
    {
     "data": {
      "text/plain": [
       "'AAAA'"
      ]
     },
     "execution_count": 210,
     "metadata": {},
     "output_type": "execute_result"
    }
   ],
   "source": [
    "I2 = iter(G)  # Second iterator at same position!\n",
    "next(I2)"
   ]
  },
  {
   "cell_type": "markdown",
   "metadata": {
    "collapsed": true
   },
   "source": [
    "**3. 一旦运行结束必须重新生成**"
   ]
  },
  {
   "cell_type": "markdown",
   "metadata": {},
   "source": [
    "- **解析集合与字典解析**\n",
    "\n",
    "_**In a sense, set and dictionary comprehensions are just syntactic sugar for passing generator expressions to the type names. Because both accept any iterable**_"
   ]
  },
  {
   "cell_type": "code",
   "execution_count": 211,
   "metadata": {
    "collapsed": false
   },
   "outputs": [
    {
     "data": {
      "text/plain": [
       "{0, 1, 4, 9, 16, 25, 36, 49, 64, 81}"
      ]
     },
     "execution_count": 211,
     "metadata": {},
     "output_type": "execute_result"
    }
   ],
   "source": [
    "{x * x for x in range(10)}  # 集合解析"
   ]
  },
  {
   "cell_type": "code",
   "execution_count": 212,
   "metadata": {
    "collapsed": false
   },
   "outputs": [
    {
     "data": {
      "text/plain": [
       "{0, 1, 4, 9, 16, 25, 36, 49, 64, 81}"
      ]
     },
     "execution_count": 212,
     "metadata": {},
     "output_type": "execute_result"
    }
   ],
   "source": [
    "set(x * x for x in range(10)) # 生成器传递给类型名set"
   ]
  },
  {
   "cell_type": "code",
   "execution_count": 213,
   "metadata": {
    "collapsed": false
   },
   "outputs": [
    {
     "data": {
      "text/plain": [
       "{0: 0, 1: 1, 2: 4, 3: 9, 4: 16, 5: 25, 6: 36, 7: 49, 8: 64, 9: 81}"
      ]
     },
     "execution_count": 213,
     "metadata": {},
     "output_type": "execute_result"
    }
   ],
   "source": [
    "{x: x * x for x in range(10)} # 字典解析"
   ]
  },
  {
   "cell_type": "code",
   "execution_count": 214,
   "metadata": {
    "collapsed": false
   },
   "outputs": [
    {
     "data": {
      "text/plain": [
       "{0: 0, 1: 1, 2: 4, 3: 9, 4: 16, 5: 25, 6: 36, 7: 49, 8: 64, 9: 81}"
      ]
     },
     "execution_count": 214,
     "metadata": {},
     "output_type": "execute_result"
    }
   ],
   "source": [
    "dict((x, x * x) for x in range(10))  # 生成器传递给类型名dict"
   ]
  },
  {
   "cell_type": "markdown",
   "metadata": {},
   "source": [
    "**扩展解析语法**"
   ]
  },
  {
   "cell_type": "code",
   "execution_count": 215,
   "metadata": {
    "collapsed": false
   },
   "outputs": [
    {
     "data": {
      "text/plain": [
       "{0, 4, 16, 36, 64}"
      ]
     },
     "execution_count": 215,
     "metadata": {},
     "output_type": "execute_result"
    }
   ],
   "source": [
    "{x * x for x in range(10) if x % 2 == 0} # 集合解析测试"
   ]
  },
  {
   "cell_type": "code",
   "execution_count": 216,
   "metadata": {
    "collapsed": false
   },
   "outputs": [
    {
     "data": {
      "text/plain": [
       "{0: 0, 2: 4, 4: 16, 6: 36, 8: 64}"
      ]
     },
     "execution_count": 216,
     "metadata": {},
     "output_type": "execute_result"
    }
   ],
   "source": [
    "{x: x * x for x in range(10) if x % 2 == 0} # 字典解析测试"
   ]
  },
  {
   "cell_type": "code",
   "execution_count": 217,
   "metadata": {
    "collapsed": false
   },
   "outputs": [
    {
     "data": {
      "text/plain": [
       "{5, 6, 7, 8, 9}"
      ]
     },
     "execution_count": 217,
     "metadata": {},
     "output_type": "execute_result"
    }
   ],
   "source": [
    "{x + y for x in [1, 2, 3] for y in [4, 5, 6]} # set不保留重复值"
   ]
  },
  {
   "cell_type": "code",
   "execution_count": 218,
   "metadata": {
    "collapsed": false
   },
   "outputs": [
    {
     "data": {
      "text/plain": [
       "{1: 6, 2: 6, 3: 6}"
      ]
     },
     "execution_count": 218,
     "metadata": {},
     "output_type": "execute_result"
    }
   ],
   "source": [
    "{x: y for x in [1, 2, 3] for y in [4, 5, 6]} # dict也不保留重复键值"
   ]
  },
  {
   "cell_type": "code",
   "execution_count": 219,
   "metadata": {
    "collapsed": false
   },
   "outputs": [
    {
     "data": {
      "text/plain": [
       "{'SAUSAGE': 'sausagesausage', 'SPAM': 'spamspam'}"
      ]
     },
     "execution_count": 219,
     "metadata": {},
     "output_type": "execute_result"
    }
   ],
   "source": [
    "{k.upper(): k * 2 for k in ['spam', 'ham', 'sausage'] if k[0] == 's'}  # 用于可迭代对象迭代(列表字符串文件...)"
   ]
  },
  {
   "cell_type": "markdown",
   "metadata": {
    "collapsed": true
   },
   "source": [
    "## Part4. 模块\n",
    "- Python模块是最高级别的程序组织单元，它将程序代码和数据封装起来以便重用。\n",
    "- 模块导入时，模块文件的全局作用域变成了模块对象的命名空间\n",
    "- 扮演至少三个角色：_**代码重用、系统命名空间划分、实现共享服务于数据**_"
   ]
  }
 ],
 "metadata": {
  "kernelspec": {
   "display_name": "Python 3",
   "language": "python",
   "name": "python3"
  },
  "language_info": {
   "codemirror_mode": {
    "name": "ipython",
    "version": 3
   },
   "file_extension": ".py",
   "mimetype": "text/x-python",
   "name": "python",
   "nbconvert_exporter": "python",
   "pygments_lexer": "ipython3",
   "version": "3.5.0"
  }
 },
 "nbformat": 4,
 "nbformat_minor": 0
}
